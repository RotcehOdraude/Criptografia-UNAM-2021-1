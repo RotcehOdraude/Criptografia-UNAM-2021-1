{
  "nbformat": 4,
  "nbformat_minor": 0,
  "metadata": {
    "colab": {
      "name": "Criptografia.ipynb",
      "provenance": [],
      "collapsed_sections": [
        "D6rgmCRUPth7"
      ],
      "authorship_tag": "ABX9TyM3n/R/3Q1tHNX1Ev4WnK6l",
      "include_colab_link": true
    },
    "kernelspec": {
      "name": "python3",
      "display_name": "Python 3"
    }
  },
  "cells": [
    {
      "cell_type": "markdown",
      "metadata": {
        "id": "view-in-github",
        "colab_type": "text"
      },
      "source": [
        "<a href=\"https://colab.research.google.com/github/RotcehOdraude/Criptografia-UNAM-2021-1/blob/main/Criptografia.ipynb\" target=\"_parent\"><img src=\"https://colab.research.google.com/assets/colab-badge.svg\" alt=\"Open In Colab\"/></a>"
      ]
    },
    {
      "cell_type": "markdown",
      "metadata": {
        "id": "kWhg9f9WPbnk"
      },
      "source": [
        "# Algebra modular\n",
        "\n",
        "---\n",
        "\n",
        "\n",
        "\n"
      ]
    },
    {
      "cell_type": "code",
      "metadata": {
        "colab": {
          "base_uri": "https://localhost:8080/"
        },
        "id": "Xx-Pgv6Q9FVu",
        "outputId": "d7e6cd76-5b30-4aec-b8d6-1e44ea0c18eb"
      },
      "source": [
        "pow(688,79) % 3551"
      ],
      "execution_count": null,
      "outputs": [
        {
          "output_type": "execute_result",
          "data": {
            "text/plain": [
              "1324"
            ]
          },
          "metadata": {
            "tags": []
          },
          "execution_count": 1
        }
      ]
    },
    {
      "cell_type": "code",
      "metadata": {
        "colab": {
          "base_uri": "https://localhost:8080/"
        },
        "id": "ww_m9Ugq904a",
        "outputId": "75c7ec83-015a-4ffc-d874-87b629ff4ccf"
      },
      "source": [
        "pow(1324,391) % 3551"
      ],
      "execution_count": null,
      "outputs": [
        {
          "output_type": "execute_result",
          "data": {
            "text/plain": [
              "688"
            ]
          },
          "metadata": {
            "tags": []
          },
          "execution_count": 3
        }
      ]
    },
    {
      "cell_type": "code",
      "metadata": {
        "id": "FX19i7rYBWFM",
        "colab": {
          "base_uri": "https://localhost:8080/"
        },
        "outputId": "e45be315-0673-47a8-cf56-2d3e18bd7d5d"
      },
      "source": [
        "pow(1997,17,299) "
      ],
      "execution_count": null,
      "outputs": [
        {
          "output_type": "execute_result",
          "data": {
            "text/plain": [
              "21"
            ]
          },
          "metadata": {
            "tags": []
          },
          "execution_count": 8
        }
      ]
    },
    {
      "cell_type": "code",
      "metadata": {
        "colab": {
          "base_uri": "https://localhost:8080/"
        },
        "id": "j-B5wDmcfikE",
        "outputId": "dd2fe898-6266-4e20-885a-084396376504"
      },
      "source": [
        "pow(21,233,299)"
      ],
      "execution_count": null,
      "outputs": [
        {
          "output_type": "execute_result",
          "data": {
            "text/plain": [
              "203"
            ]
          },
          "metadata": {
            "tags": []
          },
          "execution_count": 9
        }
      ]
    },
    {
      "cell_type": "markdown",
      "metadata": {
        "id": "a0e0HKMOPhps"
      },
      "source": [
        "# Cifrado cesar (con y sin clave)"
      ]
    },
    {
      "cell_type": "markdown",
      "metadata": {
        "id": "D6rgmCRUPth7"
      },
      "source": [
        " ##  Con clave\n"
      ]
    },
    {
      "cell_type": "code",
      "metadata": {
        "id": "MTO-pFUBPrS0"
      },
      "source": [
        "def transformarClave(entrada):\n",
        "  minusculas = entrada.lower( ) # Se convierten a minusculas todos los caracteres\n",
        "  clave = []\n",
        "  for letra in minusculas:\n",
        "    if letra not in clave:\n",
        "      clave.append(letra)\n",
        "  return ''.join(clave)\n",
        "\n",
        "def alfabetoConClave(clave):\n",
        "  alfabeto =\"abcdefghijklmnñopqrstuvwxyz\"\n",
        "  alfabetoConClave = [x for x in clave]\n",
        "  for letra in alfabeto:\n",
        "    if letra not in alfabetoConClave:\n",
        "      alfabetoConClave.append(letra)\n",
        "  return \"\".join(alfabetoConClave)\n",
        "\n",
        "def cifradoCesar(alfabeto,mensaje):\n",
        "  alfabetoEspaniol = \"abcdefghijklmnñopqrstuvwxyz\"\n",
        "  listaMensaje = list(mensaje)\n",
        "  for i in range(len(listaMensaje)):\n",
        "    if listaMensaje[i] == \" \":\n",
        "      continue\n",
        "    indiceEspaniol = alfabetoEspaniol.index(listaMensaje[i])\n",
        "    letraSustituta = alfabeto[indiceEspaniol]\n",
        "    listaMensaje[i] = letraSustituta\n",
        "  return \"\".join(listaMensaje)\n",
        "\n",
        "def cesarConClave(clave,mensaje):\n",
        "  clave = transformarClave(clave)\n",
        "  print(\"La clave es:\",clave)\n",
        "  mensaje = mensaje.lower()\n",
        "\n",
        "  #Alfabeto con clave\n",
        "  alfabetoContieneClave = alfabetoConClave(clave)\n",
        "  print(\"El alfabeto con clave es:\", alfabetoContieneClave)\n",
        "\n",
        "  #Cifrado\n",
        "  mensajeCifrado = cifradoCesar(alfabetoContieneClave,mensaje)\n",
        "\n",
        "  return mensajeCifrado\n"
      ],
      "execution_count": null,
      "outputs": []
    },
    {
      "cell_type": "code",
      "metadata": {
        "colab": {
          "base_uri": "https://localhost:8080/"
        },
        "id": "UrBm2spoQmP2",
        "outputId": "b4e518ff-d9e3-491b-9171-857dfc10d5f2"
      },
      "source": [
        "clave = \"CabelloAguilar\"\n",
        "mensaje = \"Por mi raza hablara el espiritu\"\n",
        "\n",
        "mensajeCifrado = cesarConClave(clave, mensaje)\n",
        "\n",
        "print(\"Mensaje        : \",mensaje)\n",
        "print(\"Mensaje cifrado: \",mensajeCifrado)"
      ],
      "execution_count": null,
      "outputs": [
        {
          "output_type": "stream",
          "text": [
            "La clave es: cabeloguir\n",
            "El alfabeto con clave es: cabeloguirdfhjkmnñpqstvwxyz\n",
            "Mensaje        :  Por mi raza hablara el espiritu\n",
            "Mensaje cifrado:  nmp hi pczc ucafcpc lf lqnipist\n"
          ],
          "name": "stdout"
        }
      ]
    },
    {
      "cell_type": "code",
      "metadata": {
        "id": "r6g7iCs_kt9I"
      },
      "source": [
        "Por mi raza hablará el espiritu"
      ],
      "execution_count": null,
      "outputs": []
    },
    {
      "cell_type": "code",
      "metadata": {
        "colab": {
          "base_uri": "https://localhost:8080/"
        },
        "id": "TD8PJ83fYOMn",
        "outputId": "b091ddd8-b330-40ec-8090-060ed8744e9b"
      },
      "source": [
        "string = \"hola como estas chamaco del mal\"\n",
        "[i for i in range(len(string)) if string.startswith('a', i)]"
      ],
      "execution_count": null,
      "outputs": [
        {
          "output_type": "execute_result",
          "data": {
            "text/plain": [
              "[3, 13, 18, 20, 29]"
            ]
          },
          "metadata": {
            "tags": []
          },
          "execution_count": 14
        }
      ]
    },
    {
      "cell_type": "code",
      "metadata": {
        "id": "DfkKbWfvm2Wh"
      },
      "source": [
        ""
      ],
      "execution_count": null,
      "outputs": []
    },
    {
      "cell_type": "markdown",
      "metadata": {
        "id": "xYWLjoCym2kp"
      },
      "source": [
        "# Criptoanalisis por frecuencia\n"
      ]
    },
    {
      "cell_type": "code",
      "metadata": {
        "colab": {
          "base_uri": "https://localhost:8080/"
        },
        "id": "7Fz_7gHum5he",
        "outputId": "0e84ba25-3d85-4cc4-f346-dae5cb2a3398"
      },
      "source": [
        "criptograma = \"\"\"HS2BHF7JÑ7207HS2B9C722SJ47JÑ72MP7BN77JMP7H92BS2926\\n\n",
        "929J6SNMP72FMP7JS17N7B7H967J96SJ7NN7170FS9J9097J7H\\n\n",
        "070SK9NS29ÑS0S2CP19J3HS2192170FÑ9J92SH922S8N7H926S\\n\n",
        "8N729198H727JÑN9K98H72BS292MP7H72HH7J9JSH72Q9BF9JH\\n\n",
        "9QF097JÑ7N9D93MPF7J6SJ79H2FH7JBFSPJ90719J2SK90SN07\\n\n",
        "F16N7BF29N7BSN09BFSJ3D93Ñ918F7JMPF7JD9B7171SNF9BSJ\\n\n",
        "H9B9N9982SNÑ937JH9B9N96FJÑ90S7H472ÑS07H9872ÑF9NPFJ\\n\n",
        "07H991SNS292P6HFB9JÑ7872ÑF9B9J2909H919JS2P57Ñ9J0SH\\n\n",
        "9CN7JÑ737H1FN9NHH7JS07919N4PN9BS1SPJ19N7JB9H190S\"\"\"\n",
        "\n",
        "\n",
        "print(criptograma)"
      ],
      "execution_count": null,
      "outputs": [
        {
          "output_type": "stream",
          "text": [
            "HS2BHF7JÑ7207HS2B9C722SJ47JÑ72MP7BN77JMP7H92BS2926\n",
            "\n",
            "929J6SNMP72FMP7JS17N7B7H967J96SJ7NN7170FS9J9097J7H\n",
            "\n",
            "070SK9NS29ÑS0S2CP19J3HS2192170FÑ9J92SH922S8N7H926S\n",
            "\n",
            "8N729198H727JÑN9K98H72BS292MP7H72HH7J9JSH72Q9BF9JH\n",
            "\n",
            "9QF097JÑ7N9D93MPF7J6SJ79H2FH7JBFSPJ90719J2SK90SN07\n",
            "\n",
            "F16N7BF29N7BSN09BFSJ3D93Ñ918F7JMPF7JD9B7171SNF9BSJ\n",
            "\n",
            "H9B9N9982SNÑ937JH9B9N96FJÑ90S7H472ÑS07H9872ÑF9NPFJ\n",
            "\n",
            "07H991SNS292P6HFB9JÑ7872ÑF9B9J2909H919JS2P57Ñ9J0SH\n",
            "\n",
            "9CN7JÑ737H1FN9NHH7JS07919N4PN9BS1SPJ19N7JB9H190S\n"
          ],
          "name": "stdout"
        }
      ]
    },
    {
      "cell_type": "code",
      "metadata": {
        "id": "aO4cVhX0oACG",
        "colab": {
          "base_uri": "https://localhost:8080/"
        },
        "outputId": "7a18bdaa-61d6-45c1-f62f-1c8914e4e6fd"
      },
      "source": [
        "def frecuenciaMonogramas(texto_cifrado):\n",
        "  diccionario = {}\n",
        "  \n",
        "  for letra in texto_cifrado:\n",
        "    if letra in diccionario.keys():\n",
        "      diccionario[letra] +=1\n",
        "    else:\n",
        "      diccionario[letra] = 1\n",
        "\n",
        "  return diccionario\n",
        "\n",
        "\n",
        "def traducir(texto_cifrado, frecuencias_idioma):\n",
        "  descifrado = []\n",
        "  for letra in texto_cifrado:\n",
        "    descifrado.append(frecuencias_idioma[letra])\n",
        "  return \"\".join(descifrado)\n",
        "\n",
        "\n",
        "\n",
        "frecuencias_del_espaniol = [\n",
        "                            ['9','7','2','J','S','H','N','F','0','B','1','Ñ','P','6','8','M','3','4','C','D','K','Q','5','\\n'],\n",
        "                            ['A','E','s','N','O','L','R','i','d','c','m','T','U','p','b','Q','y','g','f','h','ñ','v','j','\\n']\n",
        "                            ]\n",
        "\n",
        "\n",
        "frecuencias_del_espaniol = dict(zip(frecuencias_del_espaniol[0],frecuencias_del_espaniol[1]))\n",
        "#dicionario1 = frecuenciaMonogramas(criptograma)\n",
        "\n",
        "traduccion = traducir(criptograma,frecuencias_del_espaniol)\n",
        "\n",
        "print(traduccion.upper())\n",
        "#print(criptograma)\n"
      ],
      "execution_count": null,
      "outputs": [
        {
          "output_type": "stream",
          "text": [
            "LOSCLIENTESDELOSCAFESSONGENTESQUECREENQUELASCOSASP\n",
            "\n",
            "ASANPORQUESIQUENOMERECELAPENAPONERREMEDIOANADAENEL\n",
            "\n",
            "DEDOÑAROSATODOSFUMANYLOSMASMEDITANASOLASSOBRELASPO\n",
            "\n",
            "BRESAMABLESENTRAÑABLESCOSASQUELESLLENANOLESVACIANL\n",
            "\n",
            "AVIDAENTERAHAYQUIENPONEALSILENCIOUNADEMANSOÑADORDE\n",
            "\n",
            "IMPRECISARECORDACIONYHAYTAMBIENQUIENHACEMEMORIACON\n",
            "\n",
            "LACARAABSORTAYENLACARAPINTADOELGESTODELABESTIARUIN\n",
            "\n",
            "DELAAMOROSASUPLICANTEBESTIACANSADALAMANOSUJETANDOL\n",
            "\n",
            "AFRENTEYELMIRARLLENODEAMARGURACOMOUNMARENCALMADO\n"
          ],
          "name": "stdout"
        }
      ]
    },
    {
      "cell_type": "code",
      "metadata": {
        "id": "3UHlE2zrWQY7"
      },
      "source": [
        "import re\n",
        "re.search(criptograma,\"7J\")"
      ],
      "execution_count": null,
      "outputs": []
    },
    {
      "cell_type": "code",
      "metadata": {
        "id": "hOeOOCPTlzNG"
      },
      "source": [
        ""
      ],
      "execution_count": null,
      "outputs": []
    },
    {
      "cell_type": "markdown",
      "metadata": {
        "id": "O9d9K1BOl0ri"
      },
      "source": [
        "# Cifrado Hill\n"
      ]
    },
    {
      "cell_type": "markdown",
      "metadata": {
        "id": "UrYVuKb00A83"
      },
      "source": [
        "El cifrado de hill utiliza:\n",
        "*   Una tabla de equivalencia de caracteres\n",
        "*   Una matriz llave, debe tener inversa, determinante diferente de cero, cuadrada\n",
        "*   un vector mensaje, debe tener numero de renglones que de columnas, multiplo de la matriz llave si no rellenar con x\n",
        "\n",
        "$$C=K \\times M $$\n",
        "\n",
        "$$\\begin{pmatrix}\n",
        " C_{1}  \\\\ \n",
        " C_{2} \\\\ \n",
        " : \\\\ \n",
        " C_{n} \n",
        "\\end{pmatrix} =\n",
        "\\begin{pmatrix}\n",
        " k_{11}  &k_{12}  &... &k_{1n}\\\\ \n",
        " k_{21}  &k_{22}  &... &k_{2n}\\\\ \n",
        " :  &:  &... &:\\\\ \n",
        " k_{n1}  &k_{n2}  &... &k_{nn}\n",
        "\\end{pmatrix} \\times\n",
        "\\begin{pmatrix}\n",
        " M_{1}  \\\\ \n",
        " M_{2} \\\\ \n",
        " : \\\\ \n",
        " M_{n} \n",
        "\\end{pmatrix} modN\n",
        "$$\n",
        "\n",
        "\n",
        "\n"
      ]
    },
    {
      "cell_type": "markdown",
      "metadata": {
        "id": "StuK0auo1mKs"
      },
      "source": [
        "## Tabla de equivalencias"
      ]
    },
    {
      "cell_type": "markdown",
      "metadata": {
        "id": "LeEO6nF-1z5m"
      },
      "source": [
        "|Numeros|Caracter|Caracter(10)|Caracter(20)|Caracter(30)|\n",
        "|------|--------|--------|--------|--------|\n",
        "| 0 | a | k | t | 4 |\n",
        "| 1 | b | l | u | 5 |\n",
        "| 2 | c | m | v | 6 |\n",
        "| 3 | d | n | w | 7 |\n",
        "| 4 | e | ñ | x | 8 |\n",
        "| 5 | f | o | y | 9 |\n",
        "| 6 | g | p | z | \n",
        "| 7 | h | q | 1 |\n",
        "| 8 | i | r | 2 |\n",
        "| 9 | j | s | 3 |\n",
        "\n",
        "Esta es una posible tabla de equivalencias aunque podria ser cualquier otra, por ejemplo la del codigo ASCII\n",
        "\n",
        "\n",
        "\n"
      ]
    },
    {
      "cell_type": "code",
      "metadata": {
        "colab": {
          "base_uri": "https://localhost:8080/"
        },
        "id": "AnB147Ga1kv7",
        "outputId": "43ec0350-2230-401d-b3ce-6628d6ac7209"
      },
      "source": [
        "tabla_equivalencias = list(enumerate('abcdefghijklmnñopqrstuvwxyz0123456789'))\n",
        "diccionario_equivalencias = dict((letra,numero) for (numero,letra) in tabla_equivalencias)\n",
        "print(diccionario_equivalencias)"
      ],
      "execution_count": 1,
      "outputs": [
        {
          "output_type": "stream",
          "text": [
            "{'a': 0, 'b': 1, 'c': 2, 'd': 3, 'e': 4, 'f': 5, 'g': 6, 'h': 7, 'i': 8, 'j': 9, 'k': 10, 'l': 11, 'm': 12, 'n': 13, 'ñ': 14, 'o': 15, 'p': 16, 'q': 17, 'r': 18, 's': 19, 't': 20, 'u': 21, 'v': 22, 'w': 23, 'x': 24, 'y': 25, 'z': 26, '0': 27, '1': 28, '2': 29, '3': 30, '4': 31, '5': 32, '6': 33, '7': 34, '8': 35, '9': 36}\n"
          ],
          "name": "stdout"
        }
      ]
    },
    {
      "cell_type": "markdown",
      "metadata": {
        "id": "cjnplFLa6YPP"
      },
      "source": [
        "##Llave\n",
        "La llave es una cadena de caracteres donde el número de caracteres debe ser igual a *nxn* donde *n* es la dimension de la matriz llave. Ejemplo:\n",
        "    \n",
        "    llave = \"aristoteles\"\n",
        "\n",
        "la llave aristoteles tiene 11 caracteres pero el número de caracteres de la llave debe ser el resultado de multiplicar la dimension de la matriz llave, la matriz llave puede ser de dimension 2x2, 3x3, 4x4,...,nxn \n",
        "\n",
        "si la matriz llave es de dimension 3x3 entonces la llave debe tener un número de caracteres igual a 9, en otros casos: 2x2=4,3x3=9,4x4=12,...\n",
        "\n",
        "en este caso como tiene 11 vamos a rellenar la llave con el caracter *x* hasta conseguir que sea 12 que es el numero mayor mas cercano.\n",
        "    \n",
        "    llave = \"aristotelesx\"\n",
        "\n",
        "otro ejemplo seria:\n",
        "\n",
        "    llave = \"pelos\"\n",
        "\n",
        "numero de caracteres es igual a 5, entonces tenemos que rellenar con x(equis) hasta que el numero de caracteres coincida con el siguiente mas cercano, en este caso 9\n",
        "\n",
        "    llave = \"pelosxxxx\"\n",
        "\n",
        "\n",
        "\n",
        "## Matriz llave \n",
        "Esta matriz debe ser una matriz cuadrada y debe tener inversa, su determinante debe ser distinto de 0 y es el resultado de transformar la llave con la tabla de equivalencias y dividirlo en grupos para acomodarlos en la matriz.\n",
        "\n",
        "$K = \\begin{pmatrix}\n",
        " k_{11}  &k_{12}  &... &k_{1n}\\\\ \n",
        " k_{21}  &k_{22}  &... &k_{2n}\\\\ \n",
        " :  &:  &... &:\\\\ \n",
        " k_{n1}  &k_{n2}  &... &k_{nn}\n",
        "\\end{pmatrix}$\n",
        "\n",
        "Ejemplo:\n",
        "\n",
        "    llave = peligroso\n",
        "\n",
        "la llave se divide en grupos de 3 para acomodarlos en la matriz llave\n",
        "\n",
        "$K = \\begin{pmatrix}\n",
        " p  &e  &l \\\\ \n",
        " i  &g  &r \\\\ \n",
        " o  &s  &o  \n",
        "\\end{pmatrix}$\n",
        "\n",
        "despues la matriz se transforma a numeros de acuerdo a la tabla de equivalencias (esta tabla puede tener la definición que uno quiera)\n",
        "\n",
        "|Numeros|Caracter|Caracter(10)|Caracter(20)|Caracter(30)|\n",
        "|------|--------|--------|--------|--------|\n",
        "| 0 | a | k | t | 4 |\n",
        "| 1 | b | l | u | 5 |\n",
        "| 2 | c | m | v | 6 |\n",
        "| 3 | d | n | w | 7 |\n",
        "| 4 | e | ñ | x | 8 |\n",
        "| 5 | f | o | y | 9 |\n",
        "| 6 | g | p | z | \n",
        "| 7 | h | q | 1 |\n",
        "| 8 | i | r | 2 |\n",
        "| 9 | j | s | 3 |\n",
        "\n",
        "la matriz resultante es la siguiente:\n",
        "\n",
        "$K = \\begin{pmatrix}\n",
        " 16  &4  &11 \\\\ \n",
        " 8  &6  &18 \\\\ \n",
        " 15  &19  &15  \n",
        "\\end{pmatrix}$\n",
        "\n",
        "\n"
      ]
    },
    {
      "cell_type": "code",
      "metadata": {
        "colab": {
          "base_uri": "https://localhost:8080/",
          "height": 95
        },
        "id": "5ofd3ph0n9_-",
        "cellView": "form",
        "outputId": "f5fe6eae-7d2b-45f8-cae8-59d6ef31b8ea"
      },
      "source": [
        "#@title Matriz llave\n",
        "\n",
        "dimension_de_matriz =    3#@param {type:\"integer\"}\n",
        "llave = \"peligroso\" #@param {type:\"string\"}\n",
        "\n",
        "matriz_llave = [[0 for i in range(dimension_de_matriz)] for i in range(dimension_de_matriz)]\n",
        "\n",
        "if len(llave) == dimension_de_matriz*dimension_de_matriz:\n",
        "  matriz_caracteres = hacer_matriz(llave,dimension_de_matriz)\n",
        "  matriz_llave = transformar_caracteres(matriz_caracteres,diccionario_equivalencias,dimension_de_matriz)\n",
        "elif len(llave) < dimension_de_matriz*dimension_de_matriz:\n",
        "  llave_rellenada = rellenar(llave,dimension_de_matriz)\n",
        "  matriz_caracteres = hacer_matriz(llave_rellenada,dimension_de_matriz)\n",
        "  matriz_llave = transformar_caracteres(matriz_caracteres,diccionario_equivalencias,dimension_de_matriz)\n",
        "else:\n",
        "  print(\"No se puede recortar la llave\")\n",
        "\n",
        "print(matriz_llave)\n",
        "printl(matriz_llave)\n"
      ],
      "execution_count": 8,
      "outputs": [
        {
          "output_type": "stream",
          "text": [
            "[[16, 4, 11], [8, 6, 18], [15, 19, 15]]\n"
          ],
          "name": "stdout"
        },
        {
          "output_type": "display_data",
          "data": {
            "text/latex": "$$\\begin{pmatrix}\n  16  &  4  &  11 \\\\\n  8  &  6  &  18 \\\\\n  15  &  19  &  15 \n\\end{pmatrix}$$",
            "text/plain": [
              "<IPython.core.display.Math object>"
            ]
          },
          "metadata": {
            "tags": []
          }
        }
      ]
    },
    {
      "cell_type": "code",
      "metadata": {
        "id": "zENwfvkLHRbV"
      },
      "source": [
        "#En caso de no encontrar el modulo array-to-latex, instalar con:\n",
        "!pip install array-to-latex"
      ],
      "execution_count": null,
      "outputs": []
    },
    {
      "cell_type": "code",
      "metadata": {
        "id": "g2JVPFTqplI8",
        "cellView": "form"
      },
      "source": [
        "#@title Funciones\n",
        "#@markdown ---\n",
        "import array_to_latex as a2l\n",
        "from IPython.display import Math, display\n",
        "from numpy import array\n",
        "\n",
        "def es_multiplo(llave):\n",
        "  ''' devuelve verdadero o falso dependiendo de si el numero de caracteres de \n",
        "  la llave es multiplo de la dimension de la matriz'''\n",
        "  if len(llave) % 3 != 0:\n",
        "    #print(\"No es multiplo\")\n",
        "    return False\n",
        "  else:\n",
        "    #print(\"Es multiplo\")\n",
        "    return True\n",
        "def hacer_matriz(llave,dimension):\n",
        "  ''' Esta funcion transforma una cadena de caracteres en una matriz'''\n",
        "  matriz = []\n",
        "  for i in zip(range(0,len(llave)+1,dimension),range(dimension-1,len(llave),dimension)):\n",
        "    matriz.append(list(llave[i[0]:i[1]+1]))\n",
        "  return matriz\n",
        "    \n",
        "def rellenar(llave,dimension):\n",
        "  ''' Esta funcion rellena de X(equis) la llave en caso de no ser multiplo '''\n",
        "  numero_de_caracteres = dimension*dimension\n",
        "  numero_relleno = numero_de_caracteres-len(llave)\n",
        "  a = list(llave)\n",
        "  for i in range(numero_relleno):\n",
        "    a.append('x')\n",
        "  return \"\".join(a)\n",
        "\n",
        "def transformar_caracteres(matriz_caracteres,equivalencias,dimension):\n",
        "  ''' Esta funcion transforma una matriz de caracteres a una matriz de numeros\n",
        "  dada una tabla de equivalencias'''\n",
        "  for i in range(dimension):\n",
        "    for j in range(dimension):\n",
        "      caracter = matriz_caracteres[i][j]\n",
        "      matriz_caracteres[i][j] = equivalencias[caracter]\n",
        "  return matriz_caracteres\n",
        "\n",
        "def printl(matriz_lista):\n",
        "  ''' Esta funcion imprime una matriz en forma de latex'''\n",
        "  A = array(matriz_lista)\n",
        "  latex_raw = a2l.to_ltx(A,arraytype=\"pmatrix\",print_out=False,frmt='{:n}')\n",
        "  display(Math(latex_raw))\n",
        "    \n",
        "\n",
        "\n"
      ],
      "execution_count": 7,
      "outputs": []
    },
    {
      "cell_type": "markdown",
      "metadata": {
        "id": "bOqOnXBBLmy2"
      },
      "source": [
        "## Mensaje\n",
        "El mensaje es una cadena de caracteres que al igual que la llave, su número de caracteres debe ser igual a la multiplicación de la dimensión de la matriz llave o múltiplo de esta.\n",
        "\n",
        "Por ejemplo:\n",
        "\n",
        "    mensaje1 = \"AMIGOCONDUCTOR\"\n",
        "    # mensaje1 tiene  14 caracteres\n",
        "\n",
        "Si la dimension de la matriz llave es de 3x3, la longitud del mensaje debe ser 3 o un multiplo mayor de este, 3,6,9, ... \n",
        "\n",
        "Otros ejemplos:\n",
        "\n",
        "    mensaje2 = \"hola\"\n",
        "    mensaje3 = \"mensaje\"\n",
        "    mensaje4 = \"CRIPTOGRAFIA\"\n",
        "\n",
        "Los mensjaes tienen que ser rellenados respectivamente como:\n",
        "\n",
        "    \"AMI GOC OND UCT ORX\"\n",
        "    \"hol axx\"\n",
        "    \"men saj exx\"\n",
        "    \"CRI PTO GRA FIA\"\n",
        "\n",
        "> **Nota**: para practicidad del codigo sustituiremos con x(equis) minuscula indistintamente, ya sea que el mensaje esté en mayusculas o en minusculas\n",
        "\n",
        "\n",
        "\n",
        "## Vector mensaje\n",
        "\n",
        "El vector mensaje es un vector de *n* renglones, donde n es la dimension de la matriz llave\n",
        "\n",
        "$$M = \\begin{pmatrix}\n",
        " M_{1}  \\\\ \n",
        " M_{2} \\\\ \n",
        " : \\\\ \n",
        " M_{n} \n",
        "\\end{pmatrix}\n",
        "$$\n",
        "\n",
        "por lo que el mensaje tendrá que dividirse en grupos de n para poder ser cifrado con la matriz llave.\n",
        "\n",
        "Ejemplo:\n",
        "\n",
        "    mensaje = \"esteeselmensajeenclaro\"\n",
        "\n",
        "el mensaje debe tener un numero de caractes multiplo de n, de no ser así rellenar con X(equis), suponiendo que la matriz llave es de dimension 3x3.\n",
        "\n",
        "    \"est ees elm ens jee ncl aro\"\n",
        "\n",
        "en este ejemplo el mensaje tiene 21 caracteres por lo que puede ser dividido en grupos de tres\n",
        "\n",
        "    mensaje2 = \"otromensaje\"\n",
        "    \"otr ome nsa jeX\"\n",
        "\n",
        "El mensaje 2 es rellenado con una X para que pueda ser dividido en grupo de 3\n",
        "\n",
        "Al igual que con la matriz llave estos grupos de 3 caracteres se convertiran a un vector con números siguiendo la misma tabla de equivalencias\n",
        "\n",
        "$$\\begin{pmatrix}\n",
        " e  \\\\ \n",
        " s  \\\\ \n",
        " t  \n",
        "\\end{pmatrix}\n",
        "\\rightarrow \n",
        "\\begin{pmatrix}\n",
        " 4  \\\\ \n",
        " 19  \\\\ \n",
        " 20  \n",
        "\\end{pmatrix}\n",
        "$$\n",
        "\n",
        "y así con cada uno de los grupos hasta tener todo el mensaje representado en vectores de números"
      ]
    },
    {
      "cell_type": "code",
      "metadata": {
        "colab": {
          "base_uri": "https://localhost:8080/"
        },
        "id": "lF_eQSWCMvxQ",
        "outputId": "18a2156f-bf6a-4202-f4a5-0549a89fa3dd"
      },
      "source": [
        "from numpy import matrix,zeros,size,matmul\n",
        "from numpy.linalg import det,inv\n",
        "import array_to_latex as a2l\n",
        "from IPython.display import Math\n",
        "\n",
        "\n",
        "#A=matrix([[1,2,-1],[0,1,2],[5,1,1]])\n",
        "A=matrix([[10,8,11],[15,23,0],[20,20,19]])\n",
        "B=matrix([[2],[28],[27]])\n",
        "C = matmul(A,B)\n",
        "\n",
        "MC=matrix(zeros((3,3))) # Matriz de cofactores\n",
        "idx=matrix(range(3))\n",
        "for i in range(size(A,0)):\n",
        "    for j in range(size(A,1)):\n",
        "        fidx=idx[idx!=i]\n",
        "        cidx=idx[idx!=j]\n",
        "        cof=A[[[fidx[0,0]],[fidx[0,1]]],cidx]\n",
        "        MC[i,j]=pow(-1,i+j)*det(cof)\n",
        "\n",
        "\n",
        "MADJ=MC.transpose() # Matriz adjunta \n",
        "print(\"Matriz de cofactores\\n\",MC)\n",
        "print(\"Matriz adjunta\\n\",MADJ)\n",
        "print(\"Matriz adjunta transpuesta transpuesta \\n\",C)\n",
        "print(\"Matriz adjunta transpuesta transpuesta \\n\",C%37)\n",
        "\n",
        "string = a2l.to_ltx(MC,arraytype='pmatrix')\n",
        "print(rf\"$${string}$$\")"
      ],
      "execution_count": null,
      "outputs": [
        {
          "output_type": "stream",
          "text": [
            "Matriz de cofactores\n",
            " [[ 437. -285. -160.]\n",
            " [  68.  -30.  -40.]\n",
            " [-253.  165.  110.]]\n",
            "Matriz adjunta\n",
            " [[ 437.   68. -253.]\n",
            " [-285.  -30.  165.]\n",
            " [-160.  -40.  110.]]\n",
            "Matriz adjunta transpuesta transpuesta \n",
            " [[ 541]\n",
            " [ 674]\n",
            " [1113]]\n",
            "Matriz adjunta transpuesta transpuesta \n",
            " [[23]\n",
            " [ 8]\n",
            " [ 3]]\n",
            "\\begin{pmatrix}\n",
            "  437.00 & -285.00 & -160.00\\\\\n",
            "  68.00 & -30.00 & -40.00\\\\\n",
            " -253.00 &  165.00 &  110.00\n",
            "\\end{pmatrix}\n",
            "$$None$$\n"
          ],
          "name": "stdout"
        }
      ]
    },
    {
      "cell_type": "code",
      "metadata": {
        "colab": {
          "base_uri": "https://localhost:8080/"
        },
        "id": "LOjqMyN2MuME",
        "outputId": "18a2156f-bf6a-4202-f4a5-0549a89fa3dd"
      },
      "source": [
        "from numpy import matrix,zeros,size,matmul\n",
        "from numpy.linalg import det,inv\n",
        "import array_to_latex as a2l\n",
        "from IPython.display import Math\n",
        "\n",
        "\n",
        "#A=matrix([[1,2,-1],[0,1,2],[5,1,1]])\n",
        "A=matrix([[10,8,11],[15,23,0],[20,20,19]])\n",
        "B=matrix([[2],[28],[27]])\n",
        "C = matmul(A,B)\n",
        "\n",
        "MC=matrix(zeros((3,3))) # Matriz de cofactores\n",
        "idx=matrix(range(3))\n",
        "for i in range(size(A,0)):\n",
        "    for j in range(size(A,1)):\n",
        "        fidx=idx[idx!=i]\n",
        "        cidx=idx[idx!=j]\n",
        "        cof=A[[[fidx[0,0]],[fidx[0,1]]],cidx]\n",
        "        MC[i,j]=pow(-1,i+j)*det(cof)\n",
        "\n",
        "\n",
        "MADJ=MC.transpose() # Matriz adjunta \n",
        "print(\"Matriz de cofactores\\n\",MC)\n",
        "print(\"Matriz adjunta\\n\",MADJ)\n",
        "print(\"Matriz adjunta transpuesta transpuesta \\n\",C)\n",
        "print(\"Matriz adjunta transpuesta transpuesta \\n\",C%37)\n",
        "\n",
        "string = a2l.to_ltx(MC,arraytype='pmatrix')\n",
        "print(rf\"$${string}$$\")"
      ],
      "execution_count": null,
      "outputs": [
        {
          "output_type": "stream",
          "text": [
            "Matriz de cofactores\n",
            " [[ 437. -285. -160.]\n",
            " [  68.  -30.  -40.]\n",
            " [-253.  165.  110.]]\n",
            "Matriz adjunta\n",
            " [[ 437.   68. -253.]\n",
            " [-285.  -30.  165.]\n",
            " [-160.  -40.  110.]]\n",
            "Matriz adjunta transpuesta transpuesta \n",
            " [[ 541]\n",
            " [ 674]\n",
            " [1113]]\n",
            "Matriz adjunta transpuesta transpuesta \n",
            " [[23]\n",
            " [ 8]\n",
            " [ 3]]\n",
            "\\begin{pmatrix}\n",
            "  437.00 & -285.00 & -160.00\\\\\n",
            "  68.00 & -30.00 & -40.00\\\\\n",
            " -253.00 &  165.00 &  110.00\n",
            "\\end{pmatrix}\n",
            "$$None$$\n"
          ],
          "name": "stdout"
        }
      ]
    },
    {
      "cell_type": "code",
      "metadata": {
        "colab": {
          "base_uri": "https://localhost:8080/"
        },
        "id": "2zpP7Yy02V6N",
        "outputId": "d98efc91-4c56-4b91-9b63-732ccd42f375"
      },
      "source": [
        "import math\n",
        "math.fmod(1,6)"
      ],
      "execution_count": null,
      "outputs": [
        {
          "output_type": "execute_result",
          "data": {
            "text/plain": [
              "1.0"
            ]
          },
          "metadata": {
            "tags": []
          },
          "execution_count": 18
        }
      ]
    },
    {
      "cell_type": "code",
      "metadata": {
        "colab": {
          "base_uri": "https://localhost:8080/"
        },
        "id": "FUE6SIp3gUGC",
        "outputId": "2cb27b9c-f7c4-4922-ac54-cfff547547e8"
      },
      "source": [
        "# multiplos del reloj\n",
        "# si es modulo 264\n",
        "# el reloj es 264 por lo tanto:\n",
        "# 264=0\n",
        "# 264+1 =1\n",
        "\n",
        "# por lo tanto son multiplos de 264+1 \n",
        "a = 1\n",
        "print(a)\n",
        "\n",
        "for i in range(30):\n",
        "  a = a + 264\n",
        "  print(a,\"----->\",79*i)"
      ],
      "execution_count": null,
      "outputs": [
        {
          "output_type": "stream",
          "text": [
            "1\n",
            "265 -----> 0\n",
            "529 -----> 79\n",
            "793 -----> 158\n",
            "1057 -----> 237\n",
            "1321 -----> 316\n",
            "1585 -----> 395\n",
            "1849 -----> 474\n",
            "2113 -----> 553\n",
            "2377 -----> 632\n",
            "2641 -----> 711\n",
            "2905 -----> 790\n",
            "3169 -----> 869\n",
            "3433 -----> 948\n",
            "3697 -----> 1027\n",
            "3961 -----> 1106\n",
            "4225 -----> 1185\n",
            "4489 -----> 1264\n",
            "4753 -----> 1343\n",
            "5017 -----> 1422\n",
            "5281 -----> 1501\n",
            "5545 -----> 1580\n",
            "5809 -----> 1659\n",
            "6073 -----> 1738\n",
            "6337 -----> 1817\n",
            "6601 -----> 1896\n",
            "6865 -----> 1975\n",
            "7129 -----> 2054\n",
            "7393 -----> 2133\n",
            "7657 -----> 2212\n",
            "7921 -----> 2291\n"
          ],
          "name": "stdout"
        }
      ]
    },
    {
      "cell_type": "code",
      "metadata": {
        "colab": {
          "base_uri": "https://localhost:8080/"
        },
        "id": "C5fKxcBEg-uv",
        "outputId": "db7d0709-0fe9-4d03-85f2-048510c6cad7"
      },
      "source": [
        "233%264"
      ],
      "execution_count": null,
      "outputs": [
        {
          "output_type": "execute_result",
          "data": {
            "text/plain": [
              "233"
            ]
          },
          "metadata": {
            "tags": []
          },
          "execution_count": 60
        }
      ]
    },
    {
      "cell_type": "code",
      "metadata": {
        "colab": {
          "base_uri": "https://localhost:8080/"
        },
        "id": "XmJI-H5ljjiX",
        "outputId": "1d0284eb-9691-484b-858d-e39a93c77d4a"
      },
      "source": [
        "(79*233)%264"
      ],
      "execution_count": null,
      "outputs": [
        {
          "output_type": "execute_result",
          "data": {
            "text/plain": [
              "191"
            ]
          },
          "metadata": {
            "tags": []
          },
          "execution_count": 61
        }
      ]
    },
    {
      "cell_type": "code",
      "metadata": {
        "id": "G4vPoLUdlARX"
      },
      "source": [
        ""
      ],
      "execution_count": null,
      "outputs": []
    },
    {
      "cell_type": "code",
      "metadata": {
        "id": "0xf6dN9-2rMI",
        "colab": {
          "base_uri": "https://localhost:8080/"
        },
        "outputId": "865570d5-4d22-437c-d170-e0d90e9b3c48"
      },
      "source": [
        "# Python3 code to implement Hill Cipher \n",
        "\n",
        "keyMatrix = [[0] * 3 for i in range(3)] \n",
        "\n",
        "# Generate vector for the message \n",
        "messageVector = [[0] for i in range(3)] \n",
        "\n",
        "# Generate vector for the cipher \n",
        "cipherMatrix = [[0] for i in range(3)] \n",
        "\n",
        "# Following function generates the \n",
        "# key matrix for the key string \n",
        "def getKeyMatrix(key): \n",
        "\tk = 0\n",
        "\tfor i in range(3): \n",
        "\t\tfor j in range(3): \n",
        "\t\t\tkeyMatrix[i][j] = ord(key[k]) % 65\n",
        "\t\t\tk += 1\n",
        "\n",
        "# Following function encrypts the message \n",
        "def encrypt(messageVector): \n",
        "\tfor i in range(3): \n",
        "\t\tfor j in range(1): \n",
        "\t\t\tcipherMatrix[i][j] = 0\n",
        "\t\t\tfor x in range(3): \n",
        "\t\t\t\tcipherMatrix[i][j] += (keyMatrix[i][x] *\n",
        "\t\t\t\t\t\t\t\t\tmessageVector[x][j]) \n",
        "\t\t\tcipherMatrix[i][j] = cipherMatrix[i][j] % 26\n",
        "\n",
        "def HillCipher(message, key): \n",
        "\n",
        "\t# Get key matrix from the key string \n",
        "\tgetKeyMatrix(key) \n",
        "\n",
        "\t# Generate vector for the message \n",
        "\tfor i in range(3): \n",
        "\t\tmessageVector[i][0] = ord(message[i]) % 65\n",
        "\n",
        "\t# Following function generates \n",
        "\t# the encrypted vector \n",
        "\tencrypt(messageVector) \n",
        "\n",
        "\t# Generate the encrypted text \n",
        "\t# from the encrypted vector \n",
        "\tCipherText = [] \n",
        "\tfor i in range(3): \n",
        "\t\tCipherText.append(chr(cipherMatrix[i][0] + 65)) \n",
        "\n",
        "\t# Finally print the ciphertext \n",
        "\tprint(\"Ciphertext: \", \"\".join(CipherText)) \n",
        "\n",
        "# Driver Code \n",
        "def main(): \n",
        "\n",
        "\t# Get the message to \n",
        "\t# be encrypted \n",
        "\tmessage = \"HOLAQUEASE\"\n",
        "\n",
        "\t# Get the key \n",
        "\tkey = \"KILOWATTS\"\n",
        "\n",
        "\tHillCipher(message, key) \n",
        "\n",
        "if __name__ == \"__main__\": \n",
        "\tmain() \n",
        "\n",
        "# This code is contributed \n",
        "# by Pratik Somwanshi \n"
      ],
      "execution_count": null,
      "outputs": [
        {
          "output_type": "stream",
          "text": [
            "Ciphertext:  RQZ\n"
          ],
          "name": "stdout"
        }
      ]
    },
    {
      "cell_type": "code",
      "metadata": {
        "colab": {
          "base_uri": "https://localhost:8080/"
        },
        "id": "KhLSbfRySXbX",
        "outputId": "c8978e61-7c73-4de7-b3aa-51e04ace8b54"
      },
      "source": [
        "round(det(A)) % 27"
      ],
      "execution_count": null,
      "outputs": [
        {
          "output_type": "execute_result",
          "data": {
            "text/plain": [
              "4"
            ]
          },
          "metadata": {
            "tags": []
          },
          "execution_count": 26
        }
      ]
    },
    {
      "cell_type": "code",
      "metadata": {
        "colab": {
          "base_uri": "https://localhost:8080/"
        },
        "id": "EZ-1T_ZcUJTl",
        "outputId": "b7e19397-df00-4942-f8ee-ea751600f31b"
      },
      "source": [
        "20*7+20*36+19*34"
      ],
      "execution_count": null,
      "outputs": [
        {
          "output_type": "execute_result",
          "data": {
            "text/plain": [
              "1506"
            ]
          },
          "metadata": {
            "tags": []
          },
          "execution_count": 37
        }
      ]
    },
    {
      "cell_type": "code",
      "metadata": {
        "colab": {
          "base_uri": "https://localhost:8080/"
        },
        "id": "jgoLCSIGdiTG",
        "outputId": "95e803f7-4092-4ef2-d045-40d5a823eba5"
      },
      "source": [
        "1095%37"
      ],
      "execution_count": null,
      "outputs": [
        {
          "output_type": "execute_result",
          "data": {
            "text/plain": [
              "22"
            ]
          },
          "metadata": {
            "tags": []
          },
          "execution_count": 49
        }
      ]
    },
    {
      "cell_type": "code",
      "metadata": {
        "id": "njomvKqYf8Sl"
      },
      "source": [
        ""
      ],
      "execution_count": null,
      "outputs": []
    }
  ]
}