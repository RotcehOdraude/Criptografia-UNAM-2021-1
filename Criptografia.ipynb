{
  "nbformat": 4,
  "nbformat_minor": 0,
  "metadata": {
    "colab": {
      "name": "Criptografia.ipynb",
      "provenance": [],
      "collapsed_sections": [],
      "authorship_tag": "ABX9TyO8Pd09uNmVlN6Cp/jiFLi0",
      "include_colab_link": true
    },
    "kernelspec": {
      "name": "python3",
      "display_name": "Python 3"
    }
  },
  "cells": [
    {
      "cell_type": "markdown",
      "metadata": {
        "id": "view-in-github",
        "colab_type": "text"
      },
      "source": [
        "<a href=\"https://colab.research.google.com/github/RotcehOdraude/Criptografia-UNAM-2021-1/blob/main/Criptografia.ipynb\" target=\"_parent\"><img src=\"https://colab.research.google.com/assets/colab-badge.svg\" alt=\"Open In Colab\"/></a>"
      ]
    },
    {
      "cell_type": "markdown",
      "metadata": {
        "id": "kWhg9f9WPbnk"
      },
      "source": [
        "# Algebra modular\n",
        "\n",
        "---\n",
        "\n",
        "\n",
        "\n"
      ]
    },
    {
      "cell_type": "code",
      "metadata": {
        "colab": {
          "base_uri": "https://localhost:8080/"
        },
        "id": "Xx-Pgv6Q9FVu",
        "outputId": "d7e6cd76-5b30-4aec-b8d6-1e44ea0c18eb"
      },
      "source": [
        "pow(688,79) % 3551"
      ],
      "execution_count": null,
      "outputs": [
        {
          "output_type": "execute_result",
          "data": {
            "text/plain": [
              "1324"
            ]
          },
          "metadata": {
            "tags": []
          },
          "execution_count": 1
        }
      ]
    },
    {
      "cell_type": "code",
      "metadata": {
        "colab": {
          "base_uri": "https://localhost:8080/"
        },
        "id": "ww_m9Ugq904a",
        "outputId": "75c7ec83-015a-4ffc-d874-87b629ff4ccf"
      },
      "source": [
        "pow(1324,391) % 3551"
      ],
      "execution_count": null,
      "outputs": [
        {
          "output_type": "execute_result",
          "data": {
            "text/plain": [
              "688"
            ]
          },
          "metadata": {
            "tags": []
          },
          "execution_count": 3
        }
      ]
    },
    {
      "cell_type": "code",
      "metadata": {
        "id": "FX19i7rYBWFM",
        "colab": {
          "base_uri": "https://localhost:8080/"
        },
        "outputId": "e45be315-0673-47a8-cf56-2d3e18bd7d5d"
      },
      "source": [
        "pow(1997,17,299) "
      ],
      "execution_count": null,
      "outputs": [
        {
          "output_type": "execute_result",
          "data": {
            "text/plain": [
              "21"
            ]
          },
          "metadata": {
            "tags": []
          },
          "execution_count": 8
        }
      ]
    },
    {
      "cell_type": "code",
      "metadata": {
        "colab": {
          "base_uri": "https://localhost:8080/"
        },
        "id": "j-B5wDmcfikE",
        "outputId": "dd2fe898-6266-4e20-885a-084396376504"
      },
      "source": [
        "pow(21,233,299)"
      ],
      "execution_count": null,
      "outputs": [
        {
          "output_type": "execute_result",
          "data": {
            "text/plain": [
              "203"
            ]
          },
          "metadata": {
            "tags": []
          },
          "execution_count": 9
        }
      ]
    },
    {
      "cell_type": "markdown",
      "metadata": {
        "id": "a0e0HKMOPhps"
      },
      "source": [
        "# Cifrado cesar (con y sin clave)"
      ]
    },
    {
      "cell_type": "markdown",
      "metadata": {
        "id": "D6rgmCRUPth7"
      },
      "source": [
        " ##  Con clave\n"
      ]
    },
    {
      "cell_type": "code",
      "metadata": {
        "id": "MTO-pFUBPrS0"
      },
      "source": [
        "def transformarClave(entrada):\n",
        "  minusculas = entrada.lower( ) # Se convierten a minusculas todos los caracteres\n",
        "  clave = []\n",
        "  for letra in minusculas:\n",
        "    if letra not in clave:\n",
        "      clave.append(letra)\n",
        "  return ''.join(clave)\n",
        "\n",
        "def alfabetoConClave(clave):\n",
        "  alfabeto =\"abcdefghijklmnñopqrstuvwxyz\"\n",
        "  alfabetoConClave = [x for x in clave]\n",
        "  for letra in alfabeto:\n",
        "    if letra not in alfabetoConClave:\n",
        "      alfabetoConClave.append(letra)\n",
        "  return \"\".join(alfabetoConClave)\n",
        "\n",
        "def cifradoCesar(alfabeto,mensaje):\n",
        "  alfabetoEspaniol = \"abcdefghijklmnñopqrstuvwxyz\"\n",
        "  listaMensaje = list(mensaje)\n",
        "  for i in range(len(listaMensaje)):\n",
        "    if listaMensaje[i] == \" \":\n",
        "      continue\n",
        "    indiceEspaniol = alfabetoEspaniol.index(listaMensaje[i])\n",
        "    letraSustituta = alfabeto[indiceEspaniol]\n",
        "    listaMensaje[i] = letraSustituta\n",
        "  return \"\".join(listaMensaje)\n",
        "\n",
        "def cesarConClave(clave,mensaje):\n",
        "  clave = transformarClave(clave)\n",
        "  print(\"La clave es:\",clave)\n",
        "  mensaje = mensaje.lower()\n",
        "\n",
        "  #Alfabeto con clave\n",
        "  alfabetoContieneClave = alfabetoConClave(clave)\n",
        "  print(\"El alfabeto con clave es:\", alfabetoContieneClave)\n",
        "\n",
        "  #Cifrado\n",
        "  mensajeCifrado = cifradoCesar(alfabetoContieneClave,mensaje)\n",
        "\n",
        "  return mensajeCifrado\n"
      ],
      "execution_count": null,
      "outputs": []
    },
    {
      "cell_type": "code",
      "metadata": {
        "colab": {
          "base_uri": "https://localhost:8080/"
        },
        "id": "UrBm2spoQmP2",
        "outputId": "b4e518ff-d9e3-491b-9171-857dfc10d5f2"
      },
      "source": [
        "clave = \"CabelloAguilar\"\n",
        "mensaje = \"Por mi raza hablara el espiritu\"\n",
        "\n",
        "mensajeCifrado = cesarConClave(clave, mensaje)\n",
        "\n",
        "print(\"Mensaje        : \",mensaje)\n",
        "print(\"Mensaje cifrado: \",mensajeCifrado)"
      ],
      "execution_count": null,
      "outputs": [
        {
          "output_type": "stream",
          "text": [
            "La clave es: cabeloguir\n",
            "El alfabeto con clave es: cabeloguirdfhjkmnñpqstvwxyz\n",
            "Mensaje        :  Por mi raza hablara el espiritu\n",
            "Mensaje cifrado:  nmp hi pczc ucafcpc lf lqnipist\n"
          ],
          "name": "stdout"
        }
      ]
    },
    {
      "cell_type": "code",
      "metadata": {
        "id": "r6g7iCs_kt9I"
      },
      "source": [
        "Por mi raza hablará el espiritu"
      ],
      "execution_count": null,
      "outputs": []
    },
    {
      "cell_type": "code",
      "metadata": {
        "colab": {
          "base_uri": "https://localhost:8080/"
        },
        "id": "TD8PJ83fYOMn",
        "outputId": "b091ddd8-b330-40ec-8090-060ed8744e9b"
      },
      "source": [
        "string = \"hola como estas chamaco del mal\"\n",
        "[i for i in range(len(string)) if string.startswith('a', i)]"
      ],
      "execution_count": null,
      "outputs": [
        {
          "output_type": "execute_result",
          "data": {
            "text/plain": [
              "[3, 13, 18, 20, 29]"
            ]
          },
          "metadata": {
            "tags": []
          },
          "execution_count": 14
        }
      ]
    },
    {
      "cell_type": "code",
      "metadata": {
        "id": "DfkKbWfvm2Wh"
      },
      "source": [
        ""
      ],
      "execution_count": null,
      "outputs": []
    },
    {
      "cell_type": "markdown",
      "metadata": {
        "id": "xYWLjoCym2kp"
      },
      "source": [
        "# Criptoanalisis por frecuencia\n"
      ]
    },
    {
      "cell_type": "code",
      "metadata": {
        "colab": {
          "base_uri": "https://localhost:8080/"
        },
        "id": "7Fz_7gHum5he",
        "outputId": "0e84ba25-3d85-4cc4-f346-dae5cb2a3398"
      },
      "source": [
        "criptograma = \"\"\"HS2BHF7JÑ7207HS2B9C722SJ47JÑ72MP7BN77JMP7H92BS2926\\n\n",
        "929J6SNMP72FMP7JS17N7B7H967J96SJ7NN7170FS9J9097J7H\\n\n",
        "070SK9NS29ÑS0S2CP19J3HS2192170FÑ9J92SH922S8N7H926S\\n\n",
        "8N729198H727JÑN9K98H72BS292MP7H72HH7J9JSH72Q9BF9JH\\n\n",
        "9QF097JÑ7N9D93MPF7J6SJ79H2FH7JBFSPJ90719J2SK90SN07\\n\n",
        "F16N7BF29N7BSN09BFSJ3D93Ñ918F7JMPF7JD9B7171SNF9BSJ\\n\n",
        "H9B9N9982SNÑ937JH9B9N96FJÑ90S7H472ÑS07H9872ÑF9NPFJ\\n\n",
        "07H991SNS292P6HFB9JÑ7872ÑF9B9J2909H919JS2P57Ñ9J0SH\\n\n",
        "9CN7JÑ737H1FN9NHH7JS07919N4PN9BS1SPJ19N7JB9H190S\"\"\"\n",
        "\n",
        "\n",
        "print(criptograma)"
      ],
      "execution_count": null,
      "outputs": [
        {
          "output_type": "stream",
          "text": [
            "HS2BHF7JÑ7207HS2B9C722SJ47JÑ72MP7BN77JMP7H92BS2926\n",
            "\n",
            "929J6SNMP72FMP7JS17N7B7H967J96SJ7NN7170FS9J9097J7H\n",
            "\n",
            "070SK9NS29ÑS0S2CP19J3HS2192170FÑ9J92SH922S8N7H926S\n",
            "\n",
            "8N729198H727JÑN9K98H72BS292MP7H72HH7J9JSH72Q9BF9JH\n",
            "\n",
            "9QF097JÑ7N9D93MPF7J6SJ79H2FH7JBFSPJ90719J2SK90SN07\n",
            "\n",
            "F16N7BF29N7BSN09BFSJ3D93Ñ918F7JMPF7JD9B7171SNF9BSJ\n",
            "\n",
            "H9B9N9982SNÑ937JH9B9N96FJÑ90S7H472ÑS07H9872ÑF9NPFJ\n",
            "\n",
            "07H991SNS292P6HFB9JÑ7872ÑF9B9J2909H919JS2P57Ñ9J0SH\n",
            "\n",
            "9CN7JÑ737H1FN9NHH7JS07919N4PN9BS1SPJ19N7JB9H190S\n"
          ],
          "name": "stdout"
        }
      ]
    },
    {
      "cell_type": "code",
      "metadata": {
        "id": "aO4cVhX0oACG",
        "colab": {
          "base_uri": "https://localhost:8080/"
        },
        "outputId": "7a18bdaa-61d6-45c1-f62f-1c8914e4e6fd"
      },
      "source": [
        "def frecuenciaMonogramas(texto_cifrado):\n",
        "  diccionario = {}\n",
        "  \n",
        "  for letra in texto_cifrado:\n",
        "    if letra in diccionario.keys():\n",
        "      diccionario[letra] +=1\n",
        "    else:\n",
        "      diccionario[letra] = 1\n",
        "\n",
        "  return diccionario\n",
        "\n",
        "\n",
        "def traducir(texto_cifrado, frecuencias_idioma):\n",
        "  descifrado = []\n",
        "  for letra in texto_cifrado:\n",
        "    descifrado.append(frecuencias_idioma[letra])\n",
        "  return \"\".join(descifrado)\n",
        "\n",
        "\n",
        "\n",
        "frecuencias_del_espaniol = [\n",
        "                            ['9','7','2','J','S','H','N','F','0','B','1','Ñ','P','6','8','M','3','4','C','D','K','Q','5','\\n'],\n",
        "                            ['A','E','s','N','O','L','R','i','d','c','m','T','U','p','b','Q','y','g','f','h','ñ','v','j','\\n']\n",
        "                            ]\n",
        "\n",
        "\n",
        "frecuencias_del_espaniol = dict(zip(frecuencias_del_espaniol[0],frecuencias_del_espaniol[1]))\n",
        "#dicionario1 = frecuenciaMonogramas(criptograma)\n",
        "\n",
        "traduccion = traducir(criptograma,frecuencias_del_espaniol)\n",
        "\n",
        "print(traduccion.upper())\n",
        "#print(criptograma)\n"
      ],
      "execution_count": null,
      "outputs": [
        {
          "output_type": "stream",
          "text": [
            "LOSCLIENTESDELOSCAFESSONGENTESQUECREENQUELASCOSASP\n",
            "\n",
            "ASANPORQUESIQUENOMERECELAPENAPONERREMEDIOANADAENEL\n",
            "\n",
            "DEDOÑAROSATODOSFUMANYLOSMASMEDITANASOLASSOBRELASPO\n",
            "\n",
            "BRESAMABLESENTRAÑABLESCOSASQUELESLLENANOLESVACIANL\n",
            "\n",
            "AVIDAENTERAHAYQUIENPONEALSILENCIOUNADEMANSOÑADORDE\n",
            "\n",
            "IMPRECISARECORDACIONYHAYTAMBIENQUIENHACEMEMORIACON\n",
            "\n",
            "LACARAABSORTAYENLACARAPINTADOELGESTODELABESTIARUIN\n",
            "\n",
            "DELAAMOROSASUPLICANTEBESTIACANSADALAMANOSUJETANDOL\n",
            "\n",
            "AFRENTEYELMIRARLLENODEAMARGURACOMOUNMARENCALMADO\n"
          ],
          "name": "stdout"
        }
      ]
    },
    {
      "cell_type": "code",
      "metadata": {
        "id": "3UHlE2zrWQY7"
      },
      "source": [
        "import re\n",
        "re.search(criptograma,\"7J\")"
      ],
      "execution_count": null,
      "outputs": []
    },
    {
      "cell_type": "code",
      "metadata": {
        "id": "hOeOOCPTlzNG"
      },
      "source": [
        ""
      ],
      "execution_count": null,
      "outputs": []
    },
    {
      "cell_type": "markdown",
      "metadata": {
        "id": "O9d9K1BOl0ri"
      },
      "source": [
        "# Cifrado Hill\n"
      ]
    },
    {
      "cell_type": "markdown",
      "metadata": {
        "id": "UrYVuKb00A83"
      },
      "source": [
        "El cifrado de hill utiliza:\n",
        "*   Una tabla de equivalencia de caracteres\n",
        "*   Una matriz llave, debe tener inversa, determinante diferente de cero, cuadrada\n",
        "*   un vector mensaje, debe tener numero de renglones que de columnas, multiplo de la matriz llave si no rellenar con x\n",
        "\n",
        "$$C=K \\times M $$\n",
        "\n",
        "$$\\begin{pmatrix}\n",
        " C_{1}  \\\\ \n",
        " C_{2} \\\\ \n",
        " : \\\\ \n",
        " C_{n} \n",
        "\\end{pmatrix} =\n",
        "\\begin{pmatrix}\n",
        " k_{11}  &k_{12}  &... &k_{1n}\\\\ \n",
        " k_{21}  &k_{22}  &... &k_{2n}\\\\ \n",
        " :  &:  &... &:\\\\ \n",
        " k_{n1}  &k_{n2}  &... &k_{nn}\n",
        "\\end{pmatrix} \\times\n",
        "\\begin{pmatrix}\n",
        " M_{1}  \\\\ \n",
        " M_{2} \\\\ \n",
        " : \\\\ \n",
        " M_{n} \n",
        "\\end{pmatrix} modN\n",
        "$$\n",
        "\n",
        "\n",
        "\n"
      ]
    },
    {
      "cell_type": "markdown",
      "metadata": {
        "id": "StuK0auo1mKs"
      },
      "source": [
        "## Tabla de equivalencias"
      ]
    },
    {
      "cell_type": "markdown",
      "metadata": {
        "id": "LeEO6nF-1z5m"
      },
      "source": [
        "|Numeros|Caracter|Caracter(10)|Caracter(20)|Caracter(30)|\n",
        "|------|--------|--------|--------|--------|\n",
        "| 0 | a | k | t | 3 |\n",
        "| 1 | b | l | u | 4 |\n",
        "| 2 | c | m | v | 5 |\n",
        "| 3 | d | n | w | 6 |\n",
        "| 4 | e | ñ | x | 7 |\n",
        "| 5 | f | o | y | 8 |\n",
        "| 6 | g | p | z | 9 |\n",
        "| 7 | h | q | 0 |\n",
        "| 8 | i | r | 1 |\n",
        "| 9 | j | s | 2 |\n",
        "\n",
        "Esta es una posible tabla de equivalencias aunque podria ser cualquier otra, por ejemplo la del codigo ASCII\n",
        "\n",
        "\n",
        "\n"
      ]
    },
    {
      "cell_type": "code",
      "metadata": {
        "colab": {
          "base_uri": "https://localhost:8080/"
        },
        "id": "AnB147Ga1kv7",
        "outputId": "8bb539ce-2a2c-47ce-c8e2-8a944e1d31b0"
      },
      "source": [
        "tabla_equivalencias = list(enumerate('abcdefghijklmnñopqrstuvwxyz0123456789'))\n",
        "diccionario_equivalencias = dict((letra,numero) for (numero,letra) in tabla_equivalencias)\n",
        "diccionario_equivalencias2 = dict(tabla_equivalencias)\n",
        "print(diccionario_equivalencias)\n",
        "print(diccionario_equivalencias2)"
      ],
      "execution_count": 1,
      "outputs": [
        {
          "output_type": "stream",
          "text": [
            "{'a': 0, 'b': 1, 'c': 2, 'd': 3, 'e': 4, 'f': 5, 'g': 6, 'h': 7, 'i': 8, 'j': 9, 'k': 10, 'l': 11, 'm': 12, 'n': 13, 'ñ': 14, 'o': 15, 'p': 16, 'q': 17, 'r': 18, 's': 19, 't': 20, 'u': 21, 'v': 22, 'w': 23, 'x': 24, 'y': 25, 'z': 26, '0': 27, '1': 28, '2': 29, '3': 30, '4': 31, '5': 32, '6': 33, '7': 34, '8': 35, '9': 36}\n",
            "{0: 'a', 1: 'b', 2: 'c', 3: 'd', 4: 'e', 5: 'f', 6: 'g', 7: 'h', 8: 'i', 9: 'j', 10: 'k', 11: 'l', 12: 'm', 13: 'n', 14: 'ñ', 15: 'o', 16: 'p', 17: 'q', 18: 'r', 19: 's', 20: 't', 21: 'u', 22: 'v', 23: 'w', 24: 'x', 25: 'y', 26: 'z', 27: '0', 28: '1', 29: '2', 30: '3', 31: '4', 32: '5', 33: '6', 34: '7', 35: '8', 36: '9'}\n"
          ],
          "name": "stdout"
        }
      ]
    },
    {
      "cell_type": "markdown",
      "metadata": {
        "id": "cjnplFLa6YPP"
      },
      "source": [
        "##Llave\n",
        "La llave es una cadena de caracteres donde el número de caracteres debe ser igual a *nxn* donde *n* es la dimension de la matriz llave. Ejemplo:\n",
        "    \n",
        "    llave = \"aristoteles\"\n",
        "\n",
        "la llave aristoteles tiene 11 caracteres pero el número de caracteres de la llave debe ser el resultado de multiplicar la dimension de la matriz llave, la matriz llave puede ser de dimension 2x2, 3x3, 4x4,...,nxn \n",
        "\n",
        "si la matriz llave es de dimension 3x3 entonces la llave debe tener un número de caracteres igual a 9, en otros casos: 2x2=4,3x3=9,4x4=12,...\n",
        "\n",
        "en este caso como tiene 11 vamos a rellenar la llave con el caracter *x* hasta conseguir que sea 12 que es el numero mayor mas cercano.\n",
        "    \n",
        "    llave = \"aristotelesx\"\n",
        "\n",
        "otro ejemplo seria:\n",
        "\n",
        "    llave = \"pelos\"\n",
        "\n",
        "numero de caracteres es igual a 5, entonces tenemos que rellenar con x(equis) hasta que el numero de caracteres coincida con el siguiente mas cercano, en este caso 9\n",
        "\n",
        "    llave = \"pelosxxxx\"\n",
        "\n",
        "\n",
        "\n",
        "## Matriz llave \n",
        "Esta matriz debe ser una matriz cuadrada y debe tener inversa, su determinante debe ser distinto de 0 y es el resultado de transformar la llave con la tabla de equivalencias y dividirlo en grupos para acomodarlos en la matriz.\n",
        "\n",
        "$K = \\begin{pmatrix}\n",
        " k_{11}  &k_{12}  &... &k_{1n}\\\\ \n",
        " k_{21}  &k_{22}  &... &k_{2n}\\\\ \n",
        " :  &:  &... &:\\\\ \n",
        " k_{n1}  &k_{n2}  &... &k_{nn}\n",
        "\\end{pmatrix}$\n",
        "\n",
        "Ejemplo:\n",
        "\n",
        "    llave = peligroso\n",
        "\n",
        "la llave se divide en grupos de 3 para acomodarlos en la matriz llave\n",
        "\n",
        "$K = \\begin{pmatrix}\n",
        " p  &e  &l \\\\ \n",
        " i  &g  &r \\\\ \n",
        " o  &s  &o  \n",
        "\\end{pmatrix}$\n",
        "\n",
        "despues la matriz se transforma a numeros de acuerdo a la tabla de equivalencias (esta tabla puede tener la definición que uno quiera)\n",
        "\n",
        "|Numeros|Caracter|Caracter(10)|Caracter(20)|Caracter(30)|\n",
        "|------|--------|--------|--------|--------|\n",
        "| 0 | a | k | t | 3 |\n",
        "| 1 | b | l | u | 4 |\n",
        "| 2 | c | m | v | 5 |\n",
        "| 3 | d | n | w | 6 |\n",
        "| 4 | e | ñ | x | 7 |\n",
        "| 5 | f | o | y | 8 |\n",
        "| 6 | g | p | z | 9 |\n",
        "| 7 | h | q | 0 |\n",
        "| 8 | i | r | 1 |\n",
        "| 9 | j | s | 2 |\n",
        "\n",
        "la matriz resultante es la siguiente:\n",
        "\n",
        "$K = \\begin{pmatrix}\n",
        " 16  &4  &11 \\\\ \n",
        " 8  &6  &18 \\\\ \n",
        " 15  &19  &15  \n",
        "\\end{pmatrix}$\n",
        "\n",
        "\n"
      ]
    },
    {
      "cell_type": "code",
      "metadata": {
        "colab": {
          "base_uri": "https://localhost:8080/",
          "height": 95
        },
        "id": "5ofd3ph0n9_-",
        "outputId": "b93e2dbb-0749-4500-ac6c-92694f9fd913"
      },
      "source": [
        "#@title Matriz llave\n",
        "\n",
        "dimension_de_matriz =3 #@param {type:\"integer\"}\n",
        "llave = \"peligroso\" #@param {type:\"string\"}\n",
        "\n",
        "matriz_llave = [[0 for i in range(dimension_de_matriz)] for i in range(dimension_de_matriz)]\n",
        "\n",
        "if len(llave) == dimension_de_matriz*dimension_de_matriz:\n",
        "  matriz_caracteres = hacer_matriz(llave,dimension_de_matriz)\n",
        "  matriz_llave = transformar_caracteres(matriz_caracteres,diccionario_equivalencias)\n",
        "elif len(llave) < dimension_de_matriz*dimension_de_matriz:\n",
        "  llave_rellenada = rellenar(llave,dimension_de_matriz)\n",
        "  matriz_caracteres = hacer_matriz(llave_rellenada,dimension_de_matriz)\n",
        "  matriz_llave = transformar_caracteres(matriz_caracteres,diccionario_equivalencias)\n",
        "else:\n",
        "  print(\"No se puede recortar la llave\")\n",
        "\n",
        "print(matriz_llave)\n",
        "printl(matriz_llave)\n"
      ],
      "execution_count": 3,
      "outputs": [
        {
          "output_type": "stream",
          "text": [
            "[[16, 4, 11], [8, 6, 18], [15, 19, 15]]\n"
          ],
          "name": "stdout"
        },
        {
          "output_type": "display_data",
          "data": {
            "text/latex": "$$\\begin{pmatrix}\n  16  &  4  &  11 \\\\\n  8  &  6  &  18 \\\\\n  15  &  19  &  15 \n\\end{pmatrix}$$",
            "text/plain": [
              "<IPython.core.display.Math object>"
            ]
          },
          "metadata": {
            "tags": []
          }
        }
      ]
    },
    {
      "cell_type": "code",
      "metadata": {
        "id": "zENwfvkLHRbV"
      },
      "source": [
        "#En caso de no encontrar el modulo array-to-latex, instalar con:\n",
        "!pip install array-to-latex"
      ],
      "execution_count": null,
      "outputs": []
    },
    {
      "cell_type": "code",
      "metadata": {
        "id": "g2JVPFTqplI8"
      },
      "source": [
        "#@title Funciones\n",
        "#@markdown ---\n",
        "import array_to_latex as a2l\n",
        "from IPython.display import Math, display\n",
        "from numpy import array,zeros,size,matrix,around\n",
        "from numpy.linalg import det\n",
        "\n",
        "def es_multiplo(llave):\n",
        "  ''' devuelve verdadero o falso dependiendo de si el numero de caracteres de \n",
        "  la llave es multiplo de la dimension de la matriz'''\n",
        "  if len(llave) % 3 != 0:\n",
        "    #print(\"No es multiplo\")\n",
        "    return False\n",
        "  else:\n",
        "    #print(\"Es multiplo\")\n",
        "    return True\n",
        "def hacer_matriz(llave,dimension):\n",
        "  ''' Esta funcion transforma una cadena de caracteres en una matriz'''\n",
        "  matriz = []\n",
        "  for i in zip(range(0,len(llave)+1,dimension),range(dimension-1,len(llave),dimension)):\n",
        "    matriz.append(list(llave[i[0]:i[1]+1]))\n",
        "  return matriz\n",
        "    \n",
        "def rellenar(llave,dimension):\n",
        "  ''' Esta funcion rellena de X(equis) la llave en caso de no ser multiplo '''\n",
        "  numero_de_caracteres = dimension*dimension\n",
        "  numero_relleno = numero_de_caracteres-len(llave)\n",
        "  a = list(llave)\n",
        "\n",
        "  if numero_relleno < 0:\n",
        "    while len(a)%dimension != 0:\n",
        "      a.append('x')\n",
        "    return \"\".join(a)\n",
        "\n",
        "  for i in range(numero_relleno):\n",
        "    a.append('x')\n",
        "  return \"\".join(a)\n",
        "\n",
        "def transformar_caracteres(matriz_caracteres,equivalencias):\n",
        "  ''' Esta funcion transforma una matriz de caracteres a una matriz de numeros\n",
        "  dada una tabla de equivalencias'''\n",
        "  numero_renglones = len(matriz_caracteres)\n",
        "  numero_columnas = len(matriz_caracteres[0])\n",
        "\n",
        "  for i in range(numero_renglones):\n",
        "    for j in range(numero_columnas):\n",
        "      caracter = matriz_caracteres[i][j]\n",
        "      matriz_caracteres[i][j] = equivalencias[caracter]\n",
        "  return matriz_caracteres\n",
        "\n",
        "def printl(matriz_lista):\n",
        "  ''' Esta funcion imprime una matriz en forma de latex'''\n",
        "  A = array(matriz_lista)\n",
        "  latex_raw = a2l.to_ltx(A,arraytype=\"pmatrix\",print_out=False,frmt='{:n}')\n",
        "  display(Math(latex_raw))\n",
        "    \n",
        "def inverso_multiplicativo(numero, modulo):\n",
        "  ''' Esta funcion calcula el inverso multiplicativo de un numero dado un modulo'''\n",
        "  lista_una_de_la_tarde = [(modulo + 1)+(modulo * k) for k in range(modulo)]\n",
        "  for elemento in lista_una_de_la_tarde:\n",
        "    if elemento % numero == 0:\n",
        "      inverso = (elemento/numero) % modulo\n",
        "      return int(inverso)\n",
        "  print(f\"El {numero} no tiene inverso multiplicativo modulo {modulo}\")\n",
        "  return None\n",
        "\n",
        "def adjunta(matriz):\n",
        "  ''' Esta funcion calcula la adjunta de la matriz''' \n",
        "  A=matrix(matriz)\n",
        "  MC=matrix(zeros((3,3))) # Matriz de cofactores\n",
        "  idx=matrix(range(3))\n",
        "  for i in range(size(A,0)):\n",
        "      for j in range(size(A,1)):\n",
        "          fidx=idx[idx!=i]\n",
        "          cidx=idx[idx!=j]\n",
        "          cof=A[[[fidx[0,0]],[fidx[0,1]]],cidx]\n",
        "          MC[i,j]=pow(-1,i+j)*det(cof)\n",
        "  MADJ = MC.transpose()\n",
        "  return MADJ\n"
      ],
      "execution_count": 17,
      "outputs": []
    },
    {
      "cell_type": "code",
      "metadata": {
        "colab": {
          "base_uri": "https://localhost:8080/"
        },
        "id": "IHS4g-bNvLqX",
        "outputId": "ee326657-90f1-47c9-8d9c-cef9ce8eddad"
      },
      "source": [
        "27*27"
      ],
      "execution_count": 25,
      "outputs": [
        {
          "output_type": "execute_result",
          "data": {
            "text/plain": [
              "729"
            ]
          },
          "metadata": {
            "tags": []
          },
          "execution_count": 25
        }
      ]
    },
    {
      "cell_type": "markdown",
      "metadata": {
        "id": "bOqOnXBBLmy2"
      },
      "source": [
        "## Mensaje\n",
        "El mensaje es una cadena de caracteres que al igual que la llave, su número de caracteres debe ser igual a la multiplicación de la dimensión de la matriz llave o múltiplo de esta.\n",
        "\n",
        "Por ejemplo:\n",
        "\n",
        "    mensaje1 = \"AMIGOCONDUCTOR\"\n",
        "    # mensaje1 tiene  14 caracteres\n",
        "\n",
        "Si la dimension de la matriz llave es de 3x3, la longitud del mensaje debe ser 3 o un multiplo mayor de este, 3,6,9, ... \n",
        "\n",
        "Otros ejemplos:\n",
        "\n",
        "    mensaje2 = \"hola\"\n",
        "    mensaje3 = \"mensaje\"\n",
        "    mensaje4 = \"CRIPTOGRAFIA\"\n",
        "\n",
        "Los mensjaes tienen que ser rellenados respectivamente como:\n",
        "\n",
        "    \"AMI GOC OND UCT ORX\"\n",
        "    \"hol axx\"\n",
        "    \"men saj exx\"\n",
        "    \"CRI PTO GRA FIA\"\n",
        "\n",
        "> **Nota**: para practicidad del codigo sustituiremos con x(equis) minuscula indistintamente, ya sea que el mensaje esté en mayusculas o en minusculas\n",
        "\n",
        "\n",
        "\n",
        "## Vector mensaje\n",
        "\n",
        "El vector mensaje es un vector de *n* renglones, donde n es la dimension de la matriz llave\n",
        "\n",
        "$$M = \\begin{pmatrix}\n",
        " M_{1}  \\\\ \n",
        " M_{2} \\\\ \n",
        " : \\\\ \n",
        " M_{n} \n",
        "\\end{pmatrix}\n",
        "$$\n",
        "\n",
        "por lo que el mensaje tendrá que dividirse en grupos de n para poder ser cifrado con la matriz llave.\n",
        "\n",
        "Ejemplo:\n",
        "\n",
        "    mensaje = \"amigoconductor\"\n",
        "\n",
        "el mensaje debe tener un numero de caractes multiplo de n, de no ser así rellenar con X(equis), suponiendo que la matriz llave es de dimension 3x3.\n",
        "\n",
        "    \"ami goc ond duc tor\"\n",
        "\n",
        "en este ejemplo el mensaje tiene 15 caracteres por lo que puede ser dividido en grupos de tres\n",
        "\n",
        "    mensaje2 = \"otromensaje\"\n",
        "    \"otr ome nsa jeX\"\n",
        "\n",
        "El mensaje 2 es rellenado con una X para que pueda ser dividido en grupo de 3\n",
        "\n",
        "Al igual que con la matriz llave estos grupos de 3 caracteres se convertiran a un vector con números siguiendo la misma tabla de equivalencias\n",
        "\n",
        "$$\\begin{pmatrix}\n",
        " a  \\\\ \n",
        " m  \\\\ \n",
        " i  \n",
        "\\end{pmatrix}\n",
        "\\rightarrow \n",
        "\\begin{pmatrix}\n",
        " 0  \\\\ \n",
        " 12 \\\\ \n",
        " 8  \n",
        "\\end{pmatrix}\n",
        "$$\n",
        "\n",
        "y así con cada uno de los grupos hasta tener todo el mensaje representado en vectores de números"
      ]
    },
    {
      "cell_type": "code",
      "metadata": {
        "colab": {
          "base_uri": "https://localhost:8080/",
          "height": 322
        },
        "id": "2YgKB4jDZ9OA",
        "outputId": "acb3297c-90e9-4018-871e-5bcb24726e9b"
      },
      "source": [
        "#@title Mensaje en vectores\n",
        "from textwrap import wrap\n",
        "\n",
        "mensaje = \"amigoconductor\" #@param {type:\"string\"}\n",
        "longitud_mensaje = len(mensaje)\n",
        "numero_renglones_vector = 1\n",
        "lista_de_vectores = []\n",
        "\n",
        "if longitud_mensaje % dimension_de_matriz == 0 and longitud_mensaje >= dimension_de_matriz:\n",
        "  lista_de_grupo_de_caracteres = wrap(mensaje,dimension_de_matriz)\n",
        "  lista_vectores_caracteres = []\n",
        "  for grupo in lista_de_grupo_de_caracteres:\n",
        "    lista_vectores_caracteres.append(hacer_matriz(grupo,numero_renglones_vector))\n",
        "  for vector in lista_vectores_caracteres:\n",
        "    lista_de_vectores.append(transformar_caracteres(vector,diccionario_equivalencias))\n",
        "elif longitud_mensaje >= dimension_de_matriz:\n",
        "  mensaje_rellenado = rellenar(mensaje,dimension_de_matriz)\n",
        "  lista_de_grupo_de_caracteres = wrap(mensaje_rellenado,dimension_de_matriz)\n",
        "  lista_vectores_caracteres = []\n",
        "  for grupo in lista_de_grupo_de_caracteres:\n",
        "    lista_vectores_caracteres.append(hacer_matriz(grupo,numero_renglones_vector))\n",
        "  for vector in lista_vectores_caracteres:\n",
        "    lista_de_vectores.append(transformar_caracteres(vector,diccionario_equivalencias))\n",
        "else:\n",
        "  print(\"Este mensaje es muy corto, escribe uno mas largo\")\n",
        "\n",
        "for vector in lista_de_vectores:\n",
        "  printl(vector)\n",
        "#printl(matriz_llave)\n",
        "\n"
      ],
      "execution_count": 4,
      "outputs": [
        {
          "output_type": "display_data",
          "data": {
            "text/latex": "$$\\begin{pmatrix}\n  0 \\\\\n  12 \\\\\n  8 \n\\end{pmatrix}$$",
            "text/plain": [
              "<IPython.core.display.Math object>"
            ]
          },
          "metadata": {
            "tags": []
          }
        },
        {
          "output_type": "display_data",
          "data": {
            "text/latex": "$$\\begin{pmatrix}\n  6 \\\\\n  15 \\\\\n  2 \n\\end{pmatrix}$$",
            "text/plain": [
              "<IPython.core.display.Math object>"
            ]
          },
          "metadata": {
            "tags": []
          }
        },
        {
          "output_type": "display_data",
          "data": {
            "text/latex": "$$\\begin{pmatrix}\n  15 \\\\\n  13 \\\\\n  3 \n\\end{pmatrix}$$",
            "text/plain": [
              "<IPython.core.display.Math object>"
            ]
          },
          "metadata": {
            "tags": []
          }
        },
        {
          "output_type": "display_data",
          "data": {
            "text/latex": "$$\\begin{pmatrix}\n  21 \\\\\n  2 \\\\\n  20 \n\\end{pmatrix}$$",
            "text/plain": [
              "<IPython.core.display.Math object>"
            ]
          },
          "metadata": {
            "tags": []
          }
        },
        {
          "output_type": "display_data",
          "data": {
            "text/latex": "$$\\begin{pmatrix}\n  15 \\\\\n  18 \\\\\n  24 \n\\end{pmatrix}$$",
            "text/plain": [
              "<IPython.core.display.Math object>"
            ]
          },
          "metadata": {
            "tags": []
          }
        }
      ]
    },
    {
      "cell_type": "markdown",
      "metadata": {
        "id": "yGCX5JHP_B3g"
      },
      "source": [
        "## Cifrar\n",
        "\n",
        "Para cifrar lo unico que se debe hacer es multiplicar la matriz llave, con el vector columna, en ese mismo orden.\n",
        "\n",
        "$$\\begin{pmatrix}\n",
        " k_{11}  &k_{12}  &... &k_{1n}\\\\ \n",
        " k_{21}  &k_{22}  &... &k_{2n}\\\\ \n",
        " :  &:  &... &:\\\\ \n",
        " k_{n1}  &k_{n2}  &... &k_{nn}\n",
        "\\end{pmatrix} \\times\n",
        "\\begin{pmatrix}\n",
        " M_{1}  \\\\ \n",
        " M_{2} \\\\ \n",
        " : \\\\ \n",
        " M_{n} \n",
        "\\end{pmatrix}\n",
        "$$\n",
        "\n",
        "lo que se obtiene es un N-grama con el mensaje cifrado\n",
        "$$=\\begin{pmatrix}\n",
        " C_{1}  \\\\ \n",
        " C_{2} \\\\ \n",
        " : \\\\ \n",
        " C_{n} \n",
        "\\end{pmatrix}\n",
        "$$\n",
        "\n",
        "Ejemplo:\n",
        "\n",
        "$C = \\begin{pmatrix}\n",
        " 16  &4  &11 \\\\ \n",
        " 8  &6  &18 \\\\ \n",
        " 15  &19  &15  \n",
        "\\end{pmatrix}\n",
        "\\times\n",
        "\\begin{pmatrix}\n",
        " 4  \\\\ \n",
        " 19  \\\\ \n",
        " 20  \n",
        "\\end{pmatrix}=\n",
        "\\begin{pmatrix}\n",
        " 16 \\times 4 + 4 \\times 19 + 11 \\times 20  \\\\ \n",
        " 8 \\times 4 + 6 \\times 19 + 18 \\times 20  \\\\ \n",
        " 15 \\times 4 + 19 \\times 19 + 15 \\times 20  \n",
        "\\end{pmatrix}=\n",
        "\\begin{pmatrix}\n",
        " 136  \\\\ \n",
        " 216  \\\\ \n",
        " 348  \n",
        "\\end{pmatrix}\n",
        "$\n",
        "\n",
        "$$\n",
        "C mod27= \\begin{pmatrix}\n",
        " 1  \\\\ \n",
        " 0  \\\\ \n",
        " 24  \n",
        "\\end{pmatrix}\n",
        "$$\n"
      ]
    },
    {
      "cell_type": "code",
      "metadata": {
        "colab": {
          "base_uri": "https://localhost:8080/",
          "height": 406
        },
        "id": "cF2c-M2BCF3h",
        "outputId": "07ec77d3-43bb-47db-91ec-c8fb786e2e0b"
      },
      "source": [
        "#@title Cifrado de los vectores\n",
        "from numpy import array,matmul\n",
        "\n",
        "vectores_cifrados = []\n",
        "K = array(matriz_llave)\n",
        "modulo =  27#@param\n",
        "\n",
        "for vector in lista_de_vectores:\n",
        "  M = array(vector)\n",
        "  vectores_cifrados.append(matmul(K,M)%modulo)\n",
        "\n",
        "for vectorCifrado in vectores_cifrados:\n",
        "  printl(vectorCifrado)\n",
        "\n",
        "for vector in vectores_cifrados:\n",
        "  print(transformar_caracteres(vector.tolist(),diccionario_equivalencias2))\n",
        "\n",
        "\n"
      ],
      "execution_count": 5,
      "outputs": [
        {
          "output_type": "display_data",
          "data": {
            "text/latex": "$$\\begin{pmatrix}\n  1 \\\\\n  0 \\\\\n  24 \n\\end{pmatrix}$$",
            "text/plain": [
              "<IPython.core.display.Math object>"
            ]
          },
          "metadata": {
            "tags": []
          }
        },
        {
          "output_type": "display_data",
          "data": {
            "text/latex": "$$\\begin{pmatrix}\n  16 \\\\\n  12 \\\\\n  0 \n\\end{pmatrix}$$",
            "text/plain": [
              "<IPython.core.display.Math object>"
            ]
          },
          "metadata": {
            "tags": []
          }
        },
        {
          "output_type": "display_data",
          "data": {
            "text/latex": "$$\\begin{pmatrix}\n  1 \\\\\n  9 \\\\\n  4 \n\\end{pmatrix}$$",
            "text/plain": [
              "<IPython.core.display.Math object>"
            ]
          },
          "metadata": {
            "tags": []
          }
        },
        {
          "output_type": "display_data",
          "data": {
            "text/latex": "$$\\begin{pmatrix}\n  24 \\\\\n  0 \\\\\n  5 \n\\end{pmatrix}$$",
            "text/plain": [
              "<IPython.core.display.Math object>"
            ]
          },
          "metadata": {
            "tags": []
          }
        },
        {
          "output_type": "display_data",
          "data": {
            "text/latex": "$$\\begin{pmatrix}\n  9 \\\\\n  12 \\\\\n  9 \n\\end{pmatrix}$$",
            "text/plain": [
              "<IPython.core.display.Math object>"
            ]
          },
          "metadata": {
            "tags": []
          }
        },
        {
          "output_type": "stream",
          "text": [
            "[['b'], ['a'], ['x']]\n",
            "[['p'], ['m'], ['a']]\n",
            "[['b'], ['j'], ['e']]\n",
            "[['x'], ['a'], ['f']]\n",
            "[['j'], ['m'], ['j']]\n"
          ],
          "name": "stdout"
        }
      ]
    },
    {
      "cell_type": "markdown",
      "metadata": {
        "id": "c49rKUHsV-Z3"
      },
      "source": [
        "## Descifrado Hill\n",
        "\n",
        "Para poder decifrar un mensaje nescesitamos un par de cosas:\n",
        "+ la inversa de la matriz K\n",
        "+ los vectores del mensaje cifrado\n",
        "\n",
        "### Inversa de la matriz K\n",
        "Para obter la inversa de una matriz necesitamos que se cumplan ciertas condiciones\n",
        "+ Que la matriz sea cuadrada\n",
        "+ Que el determinante de la matriz sea diferente de 0\n",
        "+ Y en este caso particular como estamos trabajando con algebra modular, sus elementos deben ser enteros positivos.\n",
        "\n",
        "$$\n",
        "K^{-1}=\\left\\{\n",
        "\\left(\n",
        "  \\frac{1}{det(K)modulo\\mathbf{N}}\n",
        "\\right)\n",
        "\\left(\n",
        "  adj(K)modulo\\mathbf{N}\n",
        "\\right)\n",
        "\\right\\}\n",
        "modulo\\mathbf{N}\n",
        "$$\n",
        "\n",
        "**Inverso multiplicativo y determinante**\n",
        "$$\n",
        "\\frac{1}{det(K) modulo\\mathbf{N}} \n",
        "$$\n",
        "El inverso multiplicativo del determinante de K es un escalar entero positivo y se obtiene a partir del teorema de euclides extendido, o por el algoritmo de fuerza bruta, o a partir de las tablas del algebra modular\n",
        "\n",
        "**Adjunta de la matriz K**\n",
        "$$\n",
        "adj(K)= cof(K)^{T}\n",
        "$$\n",
        "La adjunta de la matriz se obtiene a partir de transponer la matriz de cofactores, la adjunta de una matriz puede llegar a tener valores negativos por lo que tanto al inverso multiplicativo como a la adjunta y al determinante hay que aplicarles el modulo correspondiete\n",
        "\n",
        "**Descifrado**\n",
        "\n",
        "Una vez que obtenemos la inversa de la matriz K, ahora solo queda multiplicarl la matriz inversa por cada uno de los vectores cifrados que componen el mensaje\n",
        "\n",
        "$$M=K^{-1} \\times C $$\n",
        "\n",
        "$$\\begin{pmatrix}\n",
        " M_{1}  \\\\ \n",
        " M_{2} \\\\ \n",
        " : \\\\ \n",
        " M_{n} \n",
        "\\end{pmatrix} =\n",
        "\\begin{pmatrix}\n",
        " k_{11}  &k_{12}  &... &k_{1n}\\\\ \n",
        " k_{21}  &k_{22}  &... &k_{2n}\\\\ \n",
        " :  &:  &... &:\\\\ \n",
        " k_{n1}  &k_{n2}  &... &k_{nn}\n",
        "\\end{pmatrix} \\times\n",
        "\\begin{pmatrix}\n",
        " C_{1}  \\\\ \n",
        " C_{2} \\\\ \n",
        " : \\\\ \n",
        " C_{n} \n",
        "\\end{pmatrix} modN\n",
        "$$\n",
        "\n",
        "\n"
      ]
    },
    {
      "cell_type": "code",
      "metadata": {
        "colab": {
          "base_uri": "https://localhost:8080/",
          "height": 398
        },
        "id": "gb_9gIUwkEJS",
        "outputId": "9bea6b43-95d9-4917-e932-94173adefc9e"
      },
      "source": [
        "from numpy.linalg import det\n",
        "\n",
        "determinante_matriz_k = round(det(K))\n",
        "determinante_matriz_k_modulo_N = determinante_matriz_k%modulo\n",
        "inverso = inverso_multiplicativo(determinante_matriz_k_modulo_N,modulo)\n",
        "adj = adjunta(K)\n",
        "adj_modulo = adj % modulo\n",
        "matriz_inversa = array((adj_modulo*inverso)%modulo)\n",
        "\n",
        "print(\"La matriz K:\\n\",K)\n",
        "print(\"El determinante de K es:\",determinante_matriz_k)\n",
        "print(f\"El determinante de K modulo {modulo} es:\",determinante_matriz_k_modulo_N)\n",
        "print(f\"El inverso multiplicativo del determinante de K modulo {modulo} es:\",inverso)\n",
        "print(\"La adjunta de k es:\\n\",adj)\n",
        "print(f\"La adjunta de k modulo {modulo}:\\n\",adj_modulo)\n",
        "print(\"La inversa de la matriz es:\\n\", matriz_inversa)\n",
        "printl(matriz_inversa.tolist())"
      ],
      "execution_count": 6,
      "outputs": [
        {
          "output_type": "stream",
          "text": [
            "La matriz K:\n",
            " [[16  4 11]\n",
            " [ 8  6 18]\n",
            " [15 19 15]]\n",
            "El determinante de K es: -2750\n",
            "El determinante de K modulo 27 es: 4\n",
            "El inverso multiplicativo del determinante de K modulo 27 es: 7\n",
            "La adjunta de k es:\n",
            " [[-252.  149.    6.]\n",
            " [ 150.   75. -200.]\n",
            " [  62. -244.   64.]]\n",
            "La adjunta de k modulo 27:\n",
            " [[18. 14.  6.]\n",
            " [15. 21. 16.]\n",
            " [ 8. 26. 10.]]\n",
            "La inversa de la matriz es:\n",
            " [[18. 17. 15.]\n",
            " [24. 12.  4.]\n",
            " [ 2. 20. 16.]]\n"
          ],
          "name": "stdout"
        },
        {
          "output_type": "display_data",
          "data": {
            "text/latex": "$$\\begin{pmatrix}\n  18  &  17  &  15 \\\\\n  24  &  12  &  4 \\\\\n  2  &  20  &  16 \n\\end{pmatrix}$$",
            "text/plain": [
              "<IPython.core.display.Math object>"
            ]
          },
          "metadata": {
            "tags": []
          }
        }
      ]
    },
    {
      "cell_type": "code",
      "metadata": {
        "colab": {
          "base_uri": "https://localhost:8080/",
          "height": 406
        },
        "id": "KrcOBNsNBK8B",
        "outputId": "8e21ecc7-d69f-47eb-8bf4-91708c50f2c1"
      },
      "source": [
        "#@title Descifrado de los vectores\n",
        "#vectores_cifrados\n",
        "vectores_descifrados = []\n",
        "\n",
        "for v in vectores_cifrados:\n",
        "  vectores_descifrados.append(around(matmul(matriz_inversa,v) % modulo))\n",
        "\n",
        "for vector in vectores_descifrados:\n",
        "  printl(vector)\n",
        "\n",
        "for vector in vectores_descifrados:\n",
        "  print(transformar_caracteres(vector.tolist(),diccionario_equivalencias2))\n",
        "\n"
      ],
      "execution_count": 19,
      "outputs": [
        {
          "output_type": "display_data",
          "data": {
            "text/latex": "$$\\begin{pmatrix}\n  0 \\\\\n  12 \\\\\n  8 \n\\end{pmatrix}$$",
            "text/plain": [
              "<IPython.core.display.Math object>"
            ]
          },
          "metadata": {
            "tags": []
          }
        },
        {
          "output_type": "display_data",
          "data": {
            "text/latex": "$$\\begin{pmatrix}\n  6 \\\\\n  15 \\\\\n  2 \n\\end{pmatrix}$$",
            "text/plain": [
              "<IPython.core.display.Math object>"
            ]
          },
          "metadata": {
            "tags": []
          }
        },
        {
          "output_type": "display_data",
          "data": {
            "text/latex": "$$\\begin{pmatrix}\n  15 \\\\\n  13 \\\\\n  3 \n\\end{pmatrix}$$",
            "text/plain": [
              "<IPython.core.display.Math object>"
            ]
          },
          "metadata": {
            "tags": []
          }
        },
        {
          "output_type": "display_data",
          "data": {
            "text/latex": "$$\\begin{pmatrix}\n  21 \\\\\n  2 \\\\\n  20 \n\\end{pmatrix}$$",
            "text/plain": [
              "<IPython.core.display.Math object>"
            ]
          },
          "metadata": {
            "tags": []
          }
        },
        {
          "output_type": "display_data",
          "data": {
            "text/latex": "$$\\begin{pmatrix}\n  15 \\\\\n  18 \\\\\n  24 \n\\end{pmatrix}$$",
            "text/plain": [
              "<IPython.core.display.Math object>"
            ]
          },
          "metadata": {
            "tags": []
          }
        },
        {
          "output_type": "stream",
          "text": [
            "[['a'], ['m'], ['i']]\n",
            "[['g'], ['o'], ['c']]\n",
            "[['o'], ['n'], ['d']]\n",
            "[['u'], ['c'], ['t']]\n",
            "[['o'], ['r'], ['x']]\n"
          ],
          "name": "stdout"
        }
      ]
    },
    {
      "cell_type": "code",
      "metadata": {
        "colab": {
          "base_uri": "https://localhost:8080/"
        },
        "id": "2zpP7Yy02V6N",
        "outputId": "d98efc91-4c56-4b91-9b63-732ccd42f375"
      },
      "source": [
        "import math\n",
        "math.fmod(1,6)"
      ],
      "execution_count": null,
      "outputs": [
        {
          "output_type": "execute_result",
          "data": {
            "text/plain": [
              "1.0"
            ]
          },
          "metadata": {
            "tags": []
          },
          "execution_count": 18
        }
      ]
    }
  ]
}