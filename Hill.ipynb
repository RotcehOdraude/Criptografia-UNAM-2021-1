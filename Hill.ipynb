{
  "nbformat": 4,
  "nbformat_minor": 0,
  "metadata": {
    "colab": {
      "name": "Hill.ipynb",
      "provenance": [],
      "collapsed_sections": [],
      "authorship_tag": "ABX9TyNo4sAziCKkA8RK0vYnDn2h",
      "include_colab_link": true
    },
    "kernelspec": {
      "name": "python3",
      "display_name": "Python 3"
    },
    "language_info": {
      "name": "python"
    }
  },
  "cells": [
    {
      "cell_type": "markdown",
      "metadata": {
        "id": "view-in-github",
        "colab_type": "text"
      },
      "source": [
        "<a href=\"https://colab.research.google.com/github/RotcehOdraude/Criptografia-UNAM-2021-1/blob/main/Hill.ipynb\" target=\"_parent\"><img src=\"https://colab.research.google.com/assets/colab-badge.svg\" alt=\"Open In Colab\"/></a>"
      ]
    },
    {
      "cell_type": "markdown",
      "metadata": {
        "id": "9ZiJVT_1bAPI"
      },
      "source": [
        "# Cifrado Hill"
      ]
    },
    {
      "cell_type": "markdown",
      "metadata": {
        "id": "tOQfwAcmbLRP"
      },
      "source": [
        "## Definición de funciones"
      ]
    },
    {
      "cell_type": "code",
      "metadata": {
        "id": "rVEPUa-xcRqJ"
      },
      "source": [
        "#En caso de no encontrar el modulo array-to-latex, instalar con:\n",
        "!pip install array-to-latex"
      ],
      "execution_count": null,
      "outputs": []
    },
    {
      "cell_type": "code",
      "metadata": {
        "id": "l6SgkZ2NcMYO"
      },
      "source": [
        "import array_to_latex as a2l\n",
        "from IPython.display import Math, display, Markdown\n",
        "from numpy import array,zeros,size,matrix,around\n",
        "from numpy.linalg import det\n",
        "\n",
        "def es_multiplo(llave):\n",
        "  ''' devuelve verdadero o falso dependiendo de si el numero de caracteres de \n",
        "  la llave es multiplo de la dimension de la matriz'''\n",
        "  if len(llave) % 3 != 0:\n",
        "    #print(\"No es multiplo\")\n",
        "    return False\n",
        "  else:\n",
        "    #print(\"Es multiplo\")\n",
        "    return True\n",
        "def hacer_matriz(llave,dimension):\n",
        "  ''' Esta funcion transforma una cadena de caracteres en una matriz'''\n",
        "  matriz = []\n",
        "  for i in zip(range(0,len(llave)+1,dimension),range(dimension-1,len(llave),dimension)):\n",
        "    matriz.append(list(llave[i[0]:i[1]+1]))\n",
        "  return matriz\n",
        "    \n",
        "def rellenar(llave,dimension):\n",
        "  ''' Esta funcion rellena de X(equis) la llave en caso de no ser multiplo '''\n",
        "  numero_de_caracteres = dimension*dimension\n",
        "  numero_relleno = numero_de_caracteres-len(llave)\n",
        "  a = list(llave)\n",
        "\n",
        "  if numero_relleno < 0:\n",
        "    while len(a)%dimension != 0:\n",
        "      a.append('x')\n",
        "    return \"\".join(a)\n",
        "\n",
        "  for i in range(numero_relleno):\n",
        "    a.append('x')\n",
        "  return \"\".join(a)\n",
        "\n",
        "def transformar_caracteres(matriz_caracteres,equivalencias):\n",
        "  ''' Esta funcion transforma una matriz de caracteres a una matriz de numeros\n",
        "  dada una tabla de equivalencias'''\n",
        "  numero_renglones = len(matriz_caracteres)\n",
        "  numero_columnas = len(matriz_caracteres[0])\n",
        "\n",
        "  for i in range(numero_renglones):\n",
        "    for j in range(numero_columnas):\n",
        "      caracter = matriz_caracteres[i][j]\n",
        "      try:\n",
        "        matriz_caracteres[i][j] = equivalencias[caracter]\n",
        "      except:\n",
        "        print(f\"La llave [{caracter}] no se encuentra en el diccionario\")\n",
        "        caracter = caracter % modulo\n",
        "        print(f\"Probando nueva llave... = {caracter}\")\n",
        "        matriz_caracteres[i][j] = equivalencias[caracter]\n",
        "  return matriz_caracteres\n",
        "\n",
        "def printl(matriz_lista):\n",
        "  ''' Esta funcion imprime una matriz en forma de latex'''\n",
        "  A = array(matriz_lista)\n",
        "  latex_raw = a2l.to_ltx(A,arraytype=\"pmatrix\",print_out=False,frmt='{:n}')\n",
        "  display(Math(latex_raw))\n",
        "\n",
        "def printm(codigo_markdown):\n",
        "  ''' Esta funcion imprime en forma de markdown'''\n",
        "  display(Markdown(codigo_markdown))\n",
        "    \n",
        "def inverso_multiplicativo(numero, modulo):\n",
        "  ''' Esta funcion calcula el inverso multiplicativo de un numero dado un modulo'''\n",
        "  lista_una_de_la_tarde = [(modulo + 1)+(modulo * k) for k in range(modulo)]\n",
        "  for elemento in lista_una_de_la_tarde:\n",
        "    if elemento % numero == 0:\n",
        "      inverso = (elemento/numero) % modulo\n",
        "      return int(inverso)\n",
        "  print(f\"El {numero} no tiene inverso multiplicativo modulo {modulo}\")\n",
        "  return None\n",
        "\n",
        "def adjunta(matriz):\n",
        "  ''' Esta funcion calcula la adjunta de la matriz''' \n",
        "  A=matrix(matriz)\n",
        "  MC=matrix(zeros((3,3))) # Matriz de cofactores\n",
        "  idx=matrix(range(3))\n",
        "  for i in range(size(A,0)):\n",
        "      for j in range(size(A,1)):\n",
        "          fidx=idx[idx!=i]\n",
        "          cidx=idx[idx!=j]\n",
        "          cof=A[[[fidx[0,0]],[fidx[0,1]]],cidx]\n",
        "          MC[i,j]=pow(-1,i+j)*det(cof)\n",
        "  MADJ = MC.transpose()\n",
        "  return MADJ\n"
      ],
      "execution_count": 2,
      "outputs": []
    },
    {
      "cell_type": "markdown",
      "metadata": {
        "id": "D3oSNrWqbUve"
      },
      "source": [
        "## Definición de variables para el algoritmo de cifrado y descifrado"
      ]
    },
    {
      "cell_type": "markdown",
      "metadata": {
        "id": "HQM7YSh1iK3m"
      },
      "source": [
        "|Numeros|Caracter|Caracter(10)|Caracter(20)|Caracter(30)|\n",
        "|------|--------|--------|--------|--------|\n",
        "| 0 | a | k | t | 3 |\n",
        "| 1 | b | l | u | 4 |\n",
        "| 2 | c | m | v | 5 |\n",
        "| 3 | d | n | w | 6 |\n",
        "| 4 | e | ñ | x | 7 |\n",
        "| 5 | f | o | y | 8 |\n",
        "| 6 | g | p | z | 9 |\n",
        "| 7 | h | q | 0 |\n",
        "| 8 | i | r | 1 |\n",
        "| 9 | j | s | 2 |"
      ]
    },
    {
      "cell_type": "code",
      "metadata": {
        "colab": {
          "base_uri": "https://localhost:8080/"
        },
        "id": "C44hgJivccg4",
        "outputId": "4a30696f-d381-4458-9798-a0186c4c5369"
      },
      "source": [
        "#@title Construcción de las tablas de equivalencias\n",
        "tabla_equivalencias = list(enumerate('abcdefghijklmnñopqrstuvwxyz0123456789'))\n",
        "letraAnumero_diccionario = dict((letra,numero) for (numero,letra) in tabla_equivalencias)\n",
        "numeroAletra_diccionario = dict(tabla_equivalencias)\n",
        "print(letraAnumero_diccionario)\n",
        "print(numeroAletra_diccionario)"
      ],
      "execution_count": 3,
      "outputs": [
        {
          "output_type": "stream",
          "text": [
            "{'a': 0, 'b': 1, 'c': 2, 'd': 3, 'e': 4, 'f': 5, 'g': 6, 'h': 7, 'i': 8, 'j': 9, 'k': 10, 'l': 11, 'm': 12, 'n': 13, 'ñ': 14, 'o': 15, 'p': 16, 'q': 17, 'r': 18, 's': 19, 't': 20, 'u': 21, 'v': 22, 'w': 23, 'x': 24, 'y': 25, 'z': 26, '0': 27, '1': 28, '2': 29, '3': 30, '4': 31, '5': 32, '6': 33, '7': 34, '8': 35, '9': 36}\n",
            "{0: 'a', 1: 'b', 2: 'c', 3: 'd', 4: 'e', 5: 'f', 6: 'g', 7: 'h', 8: 'i', 9: 'j', 10: 'k', 11: 'l', 12: 'm', 13: 'n', 14: 'ñ', 15: 'o', 16: 'p', 17: 'q', 18: 'r', 19: 's', 20: 't', 21: 'u', 22: 'v', 23: 'w', 24: 'x', 25: 'y', 26: 'z', 27: '0', 28: '1', 29: '2', 30: '3', 31: '4', 32: '5', 33: '6', 34: '7', 35: '8', 36: '9'}\n"
          ],
          "name": "stdout"
        }
      ]
    },
    {
      "cell_type": "code",
      "metadata": {
        "colab": {
          "base_uri": "https://localhost:8080/",
          "height": 148
        },
        "id": "8M3DkDFIdCrx",
        "outputId": "4602dbc6-53f9-412e-926c-6942ab1a0e5a"
      },
      "source": [
        "#@title Construcción de la Matriz llave\n",
        "\n",
        "dimension_de_matriz =3 #@param {type:\"integer\"}\n",
        "llave = \"kilowatts\" #@param {type:\"string\"}\n",
        "\n",
        "matriz_llave = [[0 for i in range(dimension_de_matriz)] for i in range(dimension_de_matriz)]\n",
        "\n",
        "if len(llave) == dimension_de_matriz*dimension_de_matriz:\n",
        "  matriz_caracteres = hacer_matriz(llave,dimension_de_matriz)\n",
        "  matriz_llave = transformar_caracteres(matriz_caracteres,letraAnumero_diccionario)\n",
        "elif len(llave) < dimension_de_matriz*dimension_de_matriz:\n",
        "  llave_rellenada = rellenar(llave,dimension_de_matriz)\n",
        "  matriz_caracteres = hacer_matriz(llave_rellenada,dimension_de_matriz)\n",
        "  matriz_llave = transformar_caracteres(matriz_caracteres,letraAnumero_diccionario)\n",
        "else:\n",
        "  print(\"No se puede recortar la llave\")\n",
        "\n",
        "printm(\"## Matriz llave $K$:\")\n",
        "print(matriz_llave)\n",
        "printl(matriz_llave)"
      ],
      "execution_count": 4,
      "outputs": [
        {
          "output_type": "display_data",
          "data": {
            "text/markdown": "## Matriz llave $K$:",
            "text/plain": [
              "<IPython.core.display.Markdown object>"
            ]
          },
          "metadata": {
            "tags": []
          }
        },
        {
          "output_type": "stream",
          "text": [
            "[[10, 8, 11], [15, 23, 0], [20, 20, 19]]\n"
          ],
          "name": "stdout"
        },
        {
          "output_type": "display_data",
          "data": {
            "text/latex": "$$\\begin{pmatrix}\n  10  &  8  &  11 \\\\\n  15  &  23  &  0 \\\\\n  20  &  20  &  19 \n\\end{pmatrix}$$",
            "text/plain": [
              "<IPython.core.display.Math object>"
            ]
          },
          "metadata": {
            "tags": []
          }
        }
      ]
    },
    {
      "cell_type": "code",
      "metadata": {
        "colab": {
          "base_uri": "https://localhost:8080/",
          "height": 437
        },
        "id": "sXd4zz5Hfn1j",
        "outputId": "7ec32601-080d-4d6d-b86e-083daffc8c27"
      },
      "source": [
        "#@title Construción del mensaje en forma de vectores\n",
        "from textwrap import wrap\n",
        "\n",
        "mensaje = \"caah970313hdfbgc10\" #@param {type:\"string\"}\n",
        "longitud_mensaje = len(mensaje)\n",
        "numero_renglones_vector = 1\n",
        "lista_de_vectores = []\n",
        "\n",
        "if longitud_mensaje % dimension_de_matriz == 0 and longitud_mensaje >= dimension_de_matriz:\n",
        "  lista_de_grupo_de_caracteres = wrap(mensaje,dimension_de_matriz)\n",
        "  lista_vectores_caracteres = []\n",
        "  for grupo in lista_de_grupo_de_caracteres:\n",
        "    lista_vectores_caracteres.append(hacer_matriz(grupo,numero_renglones_vector))\n",
        "  for vector in lista_vectores_caracteres:\n",
        "    lista_de_vectores.append(transformar_caracteres(vector,letraAnumero_diccionario))\n",
        "elif longitud_mensaje >= dimension_de_matriz:\n",
        "  mensaje_rellenado = rellenar(mensaje,dimension_de_matriz)\n",
        "  lista_de_grupo_de_caracteres = wrap(mensaje_rellenado,dimension_de_matriz)\n",
        "  lista_vectores_caracteres = []\n",
        "  for grupo in lista_de_grupo_de_caracteres:\n",
        "    lista_vectores_caracteres.append(hacer_matriz(grupo,numero_renglones_vector))\n",
        "  for vector in lista_vectores_caracteres:\n",
        "    lista_de_vectores.append(transformar_caracteres(vector,letraAnumero_diccionario))\n",
        "else:\n",
        "  print(\"Este mensaje es muy corto, escribe uno mas largo\")\n",
        "\n",
        "printm(\"##El mensaje en forma de vectores $M$ queda como :\")\n",
        "for vector in lista_de_vectores:\n",
        "  printl(vector)\n",
        "\n",
        "\n"
      ],
      "execution_count": 5,
      "outputs": [
        {
          "output_type": "display_data",
          "data": {
            "text/markdown": "##El mensaje en forma de vectores $M$ queda como :",
            "text/plain": [
              "<IPython.core.display.Markdown object>"
            ]
          },
          "metadata": {
            "tags": []
          }
        },
        {
          "output_type": "display_data",
          "data": {
            "text/latex": "$$\\begin{pmatrix}\n  2 \\\\\n  0 \\\\\n  0 \n\\end{pmatrix}$$",
            "text/plain": [
              "<IPython.core.display.Math object>"
            ]
          },
          "metadata": {
            "tags": []
          }
        },
        {
          "output_type": "display_data",
          "data": {
            "text/latex": "$$\\begin{pmatrix}\n  7 \\\\\n  36 \\\\\n  34 \n\\end{pmatrix}$$",
            "text/plain": [
              "<IPython.core.display.Math object>"
            ]
          },
          "metadata": {
            "tags": []
          }
        },
        {
          "output_type": "display_data",
          "data": {
            "text/latex": "$$\\begin{pmatrix}\n  27 \\\\\n  30 \\\\\n  28 \n\\end{pmatrix}$$",
            "text/plain": [
              "<IPython.core.display.Math object>"
            ]
          },
          "metadata": {
            "tags": []
          }
        },
        {
          "output_type": "display_data",
          "data": {
            "text/latex": "$$\\begin{pmatrix}\n  30 \\\\\n  7 \\\\\n  3 \n\\end{pmatrix}$$",
            "text/plain": [
              "<IPython.core.display.Math object>"
            ]
          },
          "metadata": {
            "tags": []
          }
        },
        {
          "output_type": "display_data",
          "data": {
            "text/latex": "$$\\begin{pmatrix}\n  5 \\\\\n  1 \\\\\n  6 \n\\end{pmatrix}$$",
            "text/plain": [
              "<IPython.core.display.Math object>"
            ]
          },
          "metadata": {
            "tags": []
          }
        },
        {
          "output_type": "display_data",
          "data": {
            "text/latex": "$$\\begin{pmatrix}\n  2 \\\\\n  28 \\\\\n  27 \n\\end{pmatrix}$$",
            "text/plain": [
              "<IPython.core.display.Math object>"
            ]
          },
          "metadata": {
            "tags": []
          }
        }
      ]
    },
    {
      "cell_type": "markdown",
      "metadata": {
        "id": "vfuw37K9bf4a"
      },
      "source": [
        "## Cifrado\n",
        "\n",
        "$$\\left \\{\n",
        "\\begin{pmatrix}\n",
        " k_{11}  &k_{12}  &... &k_{1n}\\\\ \n",
        " k_{21}  &k_{22}  &... &k_{2n}\\\\ \n",
        " :  &:  &... &:\\\\ \n",
        " k_{n1}  &k_{n2}  &... &k_{nn}\n",
        "\\end{pmatrix} \\times\n",
        "\\begin{pmatrix}\n",
        " M_{1}  \\\\ \n",
        " M_{2} \\\\ \n",
        " : \\\\ \n",
        " M_{n} \n",
        "\\end{pmatrix}\n",
        "\\right \\} mod N\n",
        "=\\begin{pmatrix}\n",
        " C_{1}  \\\\ \n",
        " C_{2} \\\\ \n",
        " : \\\\ \n",
        " C_{n} \n",
        "\\end{pmatrix}\n",
        "$$"
      ]
    },
    {
      "cell_type": "code",
      "metadata": {
        "colab": {
          "base_uri": "https://localhost:8080/",
          "height": 485
        },
        "id": "j5uI1XXwcwJM",
        "outputId": "9157d53d-3a9f-4fe9-cafe-c77dcde33917"
      },
      "source": [
        "#@title Cifrado de los vectores\n",
        "from numpy import array,matmul\n",
        "\n",
        "vectores_cifrados = []\n",
        "K = array(matriz_llave)\n",
        "modulo =  37#@param\n",
        "\n",
        "for vector in lista_de_vectores:\n",
        "  M = array(vector)\n",
        "  vectores_cifrados.append(matmul(K,M)%modulo)\n",
        "\n",
        "for vectorCifrado in vectores_cifrados:\n",
        "  printl(vectorCifrado)\n",
        "\n",
        "for vector in vectores_cifrados:\n",
        "  print(transformar_caracteres(vector.tolist(),numeroAletra_diccionario))"
      ],
      "execution_count": 6,
      "outputs": [
        {
          "output_type": "display_data",
          "data": {
            "text/latex": "$$\\begin{pmatrix}\n  20 \\\\\n  30 \\\\\n  3 \n\\end{pmatrix}$$",
            "text/plain": [
              "<IPython.core.display.Math object>"
            ]
          },
          "metadata": {
            "tags": []
          }
        },
        {
          "output_type": "display_data",
          "data": {
            "text/latex": "$$\\begin{pmatrix}\n  29 \\\\\n  8 \\\\\n  26 \n\\end{pmatrix}$$",
            "text/plain": [
              "<IPython.core.display.Math object>"
            ]
          },
          "metadata": {
            "tags": []
          }
        },
        {
          "output_type": "display_data",
          "data": {
            "text/latex": "$$\\begin{pmatrix}\n  4 \\\\\n  22 \\\\\n  7 \n\\end{pmatrix}$$",
            "text/plain": [
              "<IPython.core.display.Math object>"
            ]
          },
          "metadata": {
            "tags": []
          }
        },
        {
          "output_type": "display_data",
          "data": {
            "text/latex": "$$\\begin{pmatrix}\n  19 \\\\\n  19 \\\\\n  20 \n\\end{pmatrix}$$",
            "text/plain": [
              "<IPython.core.display.Math object>"
            ]
          },
          "metadata": {
            "tags": []
          }
        },
        {
          "output_type": "display_data",
          "data": {
            "text/latex": "$$\\begin{pmatrix}\n  13 \\\\\n  24 \\\\\n  12 \n\\end{pmatrix}$$",
            "text/plain": [
              "<IPython.core.display.Math object>"
            ]
          },
          "metadata": {
            "tags": []
          }
        },
        {
          "output_type": "display_data",
          "data": {
            "text/latex": "$$\\begin{pmatrix}\n  23 \\\\\n  8 \\\\\n  3 \n\\end{pmatrix}$$",
            "text/plain": [
              "<IPython.core.display.Math object>"
            ]
          },
          "metadata": {
            "tags": []
          }
        },
        {
          "output_type": "stream",
          "text": [
            "[['t'], ['3'], ['d']]\n",
            "[['2'], ['i'], ['z']]\n",
            "[['e'], ['v'], ['h']]\n",
            "[['s'], ['s'], ['t']]\n",
            "[['n'], ['x'], ['m']]\n",
            "[['w'], ['i'], ['d']]\n"
          ],
          "name": "stdout"
        }
      ]
    },
    {
      "cell_type": "markdown",
      "metadata": {
        "id": "jMHl9FKTbf9H"
      },
      "source": [
        "## Descifrado\n",
        "\n",
        "$$M=K^{-1} \\times C $$\n",
        "\n",
        "$$\\begin{pmatrix}\n",
        " M_{1}  \\\\ \n",
        " M_{2} \\\\ \n",
        " : \\\\ \n",
        " M_{n} \n",
        "\\end{pmatrix} =\n",
        "\\left \\{\n",
        "\\begin{pmatrix}\n",
        " k_{11}  &k_{12}  &... &k_{1n}\\\\ \n",
        " k_{21}  &k_{22}  &... &k_{2n}\\\\ \n",
        " :  &:  &... &:\\\\ \n",
        " k_{n1}  &k_{n2}  &... &k_{nn}\n",
        "\\end{pmatrix} \\times\n",
        "\\begin{pmatrix}\n",
        " C_{1}  \\\\ \n",
        " C_{2} \\\\ \n",
        " : \\\\ \n",
        " C_{n} \n",
        "\\end{pmatrix} \n",
        "\\right \\} modN\n",
        "$$\n",
        "\n",
        "**Donde $K^{-1}$ es la matriz inversa de K modulo N:**\n",
        "$$\n",
        "K^{-1}=\\left\\{\n",
        "\\left(\n",
        "  \\frac{1}{det(K)modulo\\mathbf{N}}\n",
        "\\right)\n",
        "\\left(\n",
        "  adj(K)modulo\\mathbf{N}\n",
        "\\right)\n",
        "\\right\\}\n",
        "modulo\\mathbf{N}\n",
        "$$\n",
        "**Donde $C$ son los vectores del mensaje cifrado**"
      ]
    },
    {
      "cell_type": "code",
      "metadata": {
        "colab": {
          "base_uri": "https://localhost:8080/",
          "height": 469
        },
        "id": "kMxiq6Nnkaok",
        "outputId": "d93dc947-a928-4d77-b0d6-a71185df9826"
      },
      "source": [
        "#@title Cálculo de la matriz inverza de K modulo N\n",
        "from numpy.linalg import det\n",
        "\n",
        "determinante_matriz_k = round(det(K))\n",
        "determinante_matriz_k_modulo_N = determinante_matriz_k%modulo\n",
        "inverso = inverso_multiplicativo(determinante_matriz_k_modulo_N,modulo)\n",
        "adj = adjunta(K)\n",
        "adj_modulo = adj % modulo\n",
        "matriz_inversa = array((adj_modulo*inverso)%modulo)\n",
        "\n",
        "printm(\"**La matriz $K$ es:**\")\n",
        "printl(K)\n",
        "printm(\"**El determinante de $K$ es:**\" + \" \" + str(determinante_matriz_k))\n",
        "printm(f\"**El determinante de $K$ modulo {modulo} es:**\" + \" \" + str(determinante_matriz_k_modulo_N))\n",
        "printm(f\"**El inverso multiplicativo del determinante de K modulo {modulo} es:**\" + \" \" + str(inverso))\n",
        "printm(\"**La adjunta de $K$ es:**\")\n",
        "printl(adj)\n",
        "printm(f\"**La adjunta de $K$ modulo {modulo} es:**\")\n",
        "printl(adj_modulo)\n",
        "printm(\"**La inversa de la matriz es:**\")\n",
        "printl(matriz_inversa.tolist())"
      ],
      "execution_count": 7,
      "outputs": [
        {
          "output_type": "display_data",
          "data": {
            "text/markdown": "**La matriz $K$ es:**",
            "text/plain": [
              "<IPython.core.display.Markdown object>"
            ]
          },
          "metadata": {
            "tags": []
          }
        },
        {
          "output_type": "display_data",
          "data": {
            "text/latex": "$$\\begin{pmatrix}\n  10  &  8  &  11 \\\\\n  15  &  23  &  0 \\\\\n  20  &  20  &  19 \n\\end{pmatrix}$$",
            "text/plain": [
              "<IPython.core.display.Math object>"
            ]
          },
          "metadata": {
            "tags": []
          }
        },
        {
          "output_type": "display_data",
          "data": {
            "text/markdown": "**El determinante de $K$ es:** 330",
            "text/plain": [
              "<IPython.core.display.Markdown object>"
            ]
          },
          "metadata": {
            "tags": []
          }
        },
        {
          "output_type": "display_data",
          "data": {
            "text/markdown": "**El determinante de $K$ modulo 37 es:** 34",
            "text/plain": [
              "<IPython.core.display.Markdown object>"
            ]
          },
          "metadata": {
            "tags": []
          }
        },
        {
          "output_type": "display_data",
          "data": {
            "text/markdown": "**El inverso multiplicativo del determinante de K modulo 37 es:** 12",
            "text/plain": [
              "<IPython.core.display.Markdown object>"
            ]
          },
          "metadata": {
            "tags": []
          }
        },
        {
          "output_type": "display_data",
          "data": {
            "text/markdown": "**La adjunta de $K$ es:**",
            "text/plain": [
              "<IPython.core.display.Markdown object>"
            ]
          },
          "metadata": {
            "tags": []
          }
        },
        {
          "output_type": "display_data",
          "data": {
            "text/latex": "$$\\begin{pmatrix}\n  437  &  68  & -253 \\\\\n -285  & -30  &  165 \\\\\n -160  & -40  &  110 \n\\end{pmatrix}$$",
            "text/plain": [
              "<IPython.core.display.Math object>"
            ]
          },
          "metadata": {
            "tags": []
          }
        },
        {
          "output_type": "display_data",
          "data": {
            "text/markdown": "**La adjunta de $K$ modulo 37 es:**",
            "text/plain": [
              "<IPython.core.display.Markdown object>"
            ]
          },
          "metadata": {
            "tags": []
          }
        },
        {
          "output_type": "display_data",
          "data": {
            "text/latex": "$$\\begin{pmatrix}\n  30  &  31  &  6 \\\\\n  11  &  7  &  17 \\\\\n  25  &  34  &  36 \n\\end{pmatrix}$$",
            "text/plain": [
              "<IPython.core.display.Math object>"
            ]
          },
          "metadata": {
            "tags": []
          }
        },
        {
          "output_type": "display_data",
          "data": {
            "text/markdown": "**La inversa de la matriz es:**",
            "text/plain": [
              "<IPython.core.display.Markdown object>"
            ]
          },
          "metadata": {
            "tags": []
          }
        },
        {
          "output_type": "display_data",
          "data": {
            "text/latex": "$$\\begin{pmatrix}\n  27  &  2  &  35 \\\\\n  21  &  10  &  19 \\\\\n  4  &  1  &  25 \n\\end{pmatrix}$$",
            "text/plain": [
              "<IPython.core.display.Math object>"
            ]
          },
          "metadata": {
            "tags": []
          }
        }
      ]
    },
    {
      "cell_type": "code",
      "metadata": {
        "colab": {
          "base_uri": "https://localhost:8080/",
          "height": 485
        },
        "id": "8jnCzok3a6ox",
        "outputId": "534f3fa8-7fcf-42c2-87aa-28310a6f924f"
      },
      "source": [
        "#@title Descifrado de los vectores\n",
        "#vectores_cifrados\n",
        "vectores_descifrados = []\n",
        "\n",
        "for v in vectores_cifrados:\n",
        "  vectores_descifrados.append(around(matmul(matriz_inversa,v)) % modulo)\n",
        "\n",
        "for vector in vectores_descifrados:\n",
        "  printl(vector)\n",
        "\n",
        "for vector in vectores_descifrados:\n",
        "  print(transformar_caracteres(vector.astype(int).tolist(),numeroAletra_diccionario))"
      ],
      "execution_count": 8,
      "outputs": [
        {
          "output_type": "display_data",
          "data": {
            "text/latex": "$$\\begin{pmatrix}\n  2 \\\\\n  0 \\\\\n  0 \n\\end{pmatrix}$$",
            "text/plain": [
              "<IPython.core.display.Math object>"
            ]
          },
          "metadata": {
            "tags": []
          }
        },
        {
          "output_type": "display_data",
          "data": {
            "text/latex": "$$\\begin{pmatrix}\n  7 \\\\\n  36 \\\\\n  34 \n\\end{pmatrix}$$",
            "text/plain": [
              "<IPython.core.display.Math object>"
            ]
          },
          "metadata": {
            "tags": []
          }
        },
        {
          "output_type": "display_data",
          "data": {
            "text/latex": "$$\\begin{pmatrix}\n  27 \\\\\n  30 \\\\\n  28 \n\\end{pmatrix}$$",
            "text/plain": [
              "<IPython.core.display.Math object>"
            ]
          },
          "metadata": {
            "tags": []
          }
        },
        {
          "output_type": "display_data",
          "data": {
            "text/latex": "$$\\begin{pmatrix}\n  30 \\\\\n  7 \\\\\n  3 \n\\end{pmatrix}$$",
            "text/plain": [
              "<IPython.core.display.Math object>"
            ]
          },
          "metadata": {
            "tags": []
          }
        },
        {
          "output_type": "display_data",
          "data": {
            "text/latex": "$$\\begin{pmatrix}\n  5 \\\\\n  1 \\\\\n  6 \n\\end{pmatrix}$$",
            "text/plain": [
              "<IPython.core.display.Math object>"
            ]
          },
          "metadata": {
            "tags": []
          }
        },
        {
          "output_type": "display_data",
          "data": {
            "text/latex": "$$\\begin{pmatrix}\n  2 \\\\\n  28 \\\\\n  27 \n\\end{pmatrix}$$",
            "text/plain": [
              "<IPython.core.display.Math object>"
            ]
          },
          "metadata": {
            "tags": []
          }
        },
        {
          "output_type": "stream",
          "text": [
            "[['c'], ['a'], ['a']]\n",
            "[['h'], ['9'], ['7']]\n",
            "[['0'], ['3'], ['1']]\n",
            "[['3'], ['h'], ['d']]\n",
            "[['f'], ['b'], ['g']]\n",
            "[['c'], ['1'], ['0']]\n"
          ],
          "name": "stdout"
        }
      ]
    },
    {
      "cell_type": "code",
      "metadata": {
        "id": "OxP3DtNVkfb0"
      },
      "source": [
        ""
      ],
      "execution_count": 8,
      "outputs": []
    }
  ]
}